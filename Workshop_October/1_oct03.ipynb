{
 "cells": [
  {
   "cell_type": "code",
   "execution_count": 2,
   "id": "4395ac5e",
   "metadata": {},
   "outputs": [],
   "source": [
    "'''\n",
    "data analyst provides data insights\n",
    "Alteryx tool helps to work with data\n",
    "\n",
    "'''"
   ]
  },
  {
   "cell_type": "code",
   "execution_count": 3,
   "id": "5f57cc72",
   "metadata": {},
   "outputs": [
    {
     "data": {
      "text/plain": [
       "'Create a list with five items'"
      ]
     },
     "execution_count": 3,
     "metadata": {},
     "output_type": "execute_result"
    }
   ],
   "source": [
    "'''Create a list with five items'''"
   ]
  },
  {
   "cell_type": "code",
   "execution_count": null,
   "id": "f6de285d",
   "metadata": {},
   "outputs": [],
   "source": [
    "listA=['apple','orange','lemon','guava','grapes']"
   ]
  },
  {
   "cell_type": "code",
   "execution_count": 5,
   "id": "02e0319e",
   "metadata": {},
   "outputs": [
    {
     "data": {
      "text/plain": [
       "'use pandas library'"
      ]
     },
     "execution_count": 5,
     "metadata": {},
     "output_type": "execute_result"
    }
   ],
   "source": [
    "'''use pandas library'''"
   ]
  },
  {
   "cell_type": "code",
   "execution_count": 6,
   "id": "d2b8bd6e",
   "metadata": {},
   "outputs": [],
   "source": [
    "import pandas as pd"
   ]
  },
  {
   "cell_type": "code",
   "execution_count": 7,
   "id": "eef068bd",
   "metadata": {},
   "outputs": [],
   "source": [
    "#pandas has two data types series and dataframes"
   ]
  },
  {
   "cell_type": "code",
   "execution_count": 11,
   "id": "cebe0ab0",
   "metadata": {},
   "outputs": [
    {
     "name": "stdout",
     "output_type": "stream",
     "text": [
      "0     apple\n",
      "1    orange\n",
      "2     lemon\n",
      "3     guava\n",
      "4    grapes\n",
      "dtype: object\n"
     ]
    }
   ],
   "source": [
    "print(pd.Series(listA))"
   ]
  },
  {
   "cell_type": "code",
   "execution_count": 10,
   "id": "5a084dc9",
   "metadata": {},
   "outputs": [],
   "source": [
    "listA=['apple','orange','lemon','guava','grapes']"
   ]
  },
  {
   "cell_type": "code",
   "execution_count": 18,
   "id": "ab79f402",
   "metadata": {},
   "outputs": [
    {
     "name": "stdout",
     "output_type": "stream",
     "text": [
      "        0\n",
      "0   apple\n",
      "1  orange\n",
      "2   lemon\n",
      "3   guava\n",
      "4  grapes\n"
     ]
    }
   ],
   "source": [
    "print(pd.DataFrame(listA))"
   ]
  },
  {
   "cell_type": "code",
   "execution_count": 20,
   "id": "003d12f4",
   "metadata": {},
   "outputs": [],
   "source": [
    "cities = pd.read_csv('cities.csv')"
   ]
  },
  {
   "cell_type": "code",
   "execution_count": 21,
   "id": "3a465502",
   "metadata": {},
   "outputs": [
    {
     "name": "stdout",
     "output_type": "stream",
     "text": [
      "     LatD   \"LatM\"   \"LatS\"  \"NS\"   \"LonD\"   \"LonM\"   \"LonS\"  \"EW\"  \\\n",
      "0      41        5       59   \"N\"       80       39        0   \"W\"   \n",
      "1      42       52       48   \"N\"       97       23       23   \"W\"   \n",
      "2      46       35       59   \"N\"      120       30       36   \"W\"   \n",
      "3      42       16       12   \"N\"       71       48        0   \"W\"   \n",
      "4      43       37       48   \"N\"       89       46       11   \"W\"   \n",
      "..    ...      ...      ...   ...      ...      ...      ...   ...   \n",
      "123    39       31       12   \"N\"      119       48       35   \"W\"   \n",
      "124    50       25       11   \"N\"      104       39        0   \"W\"   \n",
      "125    40       10       48   \"N\"      122       14       23   \"W\"   \n",
      "126    40       19       48   \"N\"       75       55       48   \"W\"   \n",
      "127    41        9       35   \"N\"       81       14       23   \"W\"   \n",
      "\n",
      "                 \"City\"  \"State\"  \n",
      "0          \"Youngstown\"       OH  \n",
      "1             \"Yankton\"       SD  \n",
      "2              \"Yakima\"       WA  \n",
      "3           \"Worcester\"       MA  \n",
      "4     \"Wisconsin Dells\"       WI  \n",
      "..                  ...      ...  \n",
      "123              \"Reno\"       NV  \n",
      "124            \"Regina\"       SA  \n",
      "125         \"Red Bluff\"       CA  \n",
      "126           \"Reading\"       PA  \n",
      "127           \"Ravenna\"      OH   \n",
      "\n",
      "[128 rows x 10 columns]\n"
     ]
    }
   ],
   "source": [
    "print(cities)"
   ]
  },
  {
   "cell_type": "code",
   "execution_count": 22,
   "id": "b8990b12",
   "metadata": {},
   "outputs": [
    {
     "name": "stdout",
     "output_type": "stream",
     "text": [
      "     LatD   \"LatM\"   \"LatS\"  \"NS\"   \"LonD\"   \"LonM\"   \"LonS\"  \"EW\"                 \"City\"  \"State\"\n",
      "0      41        5       59   \"N\"       80       39        0   \"W\"           \"Youngstown\"       OH\n",
      "1      42       52       48   \"N\"       97       23       23   \"W\"              \"Yankton\"       SD\n",
      "2      46       35       59   \"N\"      120       30       36   \"W\"               \"Yakima\"       WA\n",
      "3      42       16       12   \"N\"       71       48        0   \"W\"            \"Worcester\"       MA\n",
      "4      43       37       48   \"N\"       89       46       11   \"W\"      \"Wisconsin Dells\"       WI\n",
      "5      36        5       59   \"N\"       80       15        0   \"W\"        \"Winston-Salem\"       NC\n",
      "6      49       52       48   \"N\"       97        9        0   \"W\"             \"Winnipeg\"       MB\n",
      "7      39       11       23   \"N\"       78        9       36   \"W\"           \"Winchester\"       VA\n",
      "8      34       14       24   \"N\"       77       55       11   \"W\"           \"Wilmington\"       NC\n",
      "9      39       45        0   \"N\"       75       33        0   \"W\"           \"Wilmington\"       DE\n",
      "10     48        9        0   \"N\"      103       37       12   \"W\"            \"Williston\"       ND\n",
      "11     41       15        0   \"N\"       77        0        0   \"W\"         \"Williamsport\"       PA\n",
      "12     37       40       48   \"N\"       82       16       47   \"W\"           \"Williamson\"       WV\n",
      "13     33       54        0   \"N\"       98       29       23   \"W\"        \"Wichita Falls\"       TX\n",
      "14     37       41       23   \"N\"       97       20       23   \"W\"              \"Wichita\"       KS\n",
      "15     40        4       11   \"N\"       80       43       12   \"W\"             \"Wheeling\"       WV\n",
      "16     26       43       11   \"N\"       80        3        0   \"W\"      \"West Palm Beach\"       FL\n",
      "17     47       25       11   \"N\"      120       19       11   \"W\"            \"Wenatchee\"       WA\n",
      "18     41       25       11   \"N\"      122       23       23   \"W\"                 \"Weed\"       CA\n",
      "19     31       13       11   \"N\"       82       20       59   \"W\"             \"Waycross\"       GA\n",
      "20     44       57       35   \"N\"       89       38       23   \"W\"               \"Wausau\"       WI\n",
      "21     42       21       36   \"N\"       87       49       48   \"W\"             \"Waukegan\"       IL\n",
      "22     44       54        0   \"N\"       97        6       36   \"W\"            \"Watertown\"       SD\n",
      "23     43       58       47   \"N\"       75       55       11   \"W\"            \"Watertown\"       NY\n",
      "24     42       30        0   \"N\"       92       20       23   \"W\"             \"Waterloo\"       IA\n",
      "25     41       32       59   \"N\"       73        3        0   \"W\"            \"Waterbury\"       CT\n",
      "26     38       53       23   \"N\"       77        1       47   \"W\"           \"Washington\"       DC\n",
      "27     41       50       59   \"N\"       79        8       23   \"W\"               \"Warren\"       PA\n",
      "28     46        4       11   \"N\"      118       19       48   \"W\"          \"Walla Walla\"       WA\n",
      "29     31       32       59   \"N\"       97        8       23   \"W\"                 \"Waco\"       TX\n",
      "30     38       40       48   \"N\"       87       31       47   \"W\"            \"Vincennes\"       IN\n",
      "31     28       48       35   \"N\"       97        0       36   \"W\"             \"Victoria\"       TX\n",
      "32     32       20       59   \"N\"       90       52       47   \"W\"            \"Vicksburg\"       MS\n",
      "33     49       16       12   \"N\"      123        7       12   \"W\"            \"Vancouver\"       BC\n",
      "34     46       55       11   \"N\"       98        0       36   \"W\"          \"Valley City\"       ND\n",
      "35     30       49       47   \"N\"       83       16       47   \"W\"             \"Valdosta\"       GA\n",
      "36     43        6       36   \"N\"       75       13       48   \"W\"                \"Utica\"       NY\n",
      "37     39       54        0   \"N\"       79       43       48   \"W\"            \"Uniontown\"       PA\n",
      "38     32       20       59   \"N\"       95       18        0   \"W\"                \"Tyler\"       TX\n",
      "39     42       33       36   \"N\"      114       28       12   \"W\"           \"Twin Falls\"       ID\n",
      "40     33       12       35   \"N\"       87       34       11   \"W\"           \"Tuscaloosa\"       AL\n",
      "41     34       15       35   \"N\"       88       42       35   \"W\"               \"Tupelo\"       MS\n",
      "42     36        9       35   \"N\"       95       54       36   \"W\"                \"Tulsa\"       OK\n",
      "43     32       13       12   \"N\"      110       58       12   \"W\"               \"Tucson\"       AZ\n",
      "44     37       10       11   \"N\"      104       30       36   \"W\"             \"Trinidad\"       CO\n",
      "45     40       13       47   \"N\"       74       46       11   \"W\"              \"Trenton\"       NJ\n",
      "46     44       45       35   \"N\"       85       37       47   \"W\"        \"Traverse City\"       MI\n",
      "47     43       39        0   \"N\"       79       22       47   \"W\"              \"Toronto\"       ON\n",
      "48     39        2       59   \"N\"       95       40       11   \"W\"               \"Topeka\"       KS\n",
      "49     41       39        0   \"N\"       83       32       24   \"W\"               \"Toledo\"       OH\n",
      "50     33       25       48   \"N\"       94        3        0   \"W\"            \"Texarkana\"       TX\n",
      "51     39       28       12   \"N\"       87       24       36   \"W\"          \"Terre Haute\"       IN\n",
      "52     27       57        0   \"N\"       82       26       59   \"W\"                \"Tampa\"       FL\n",
      "53     30       27        0   \"N\"       84       16       47   \"W\"          \"Tallahassee\"       FL\n",
      "54     47       14       24   \"N\"      122       25       48   \"W\"               \"Tacoma\"       WA\n",
      "55     43        2       59   \"N\"       76        9        0   \"W\"             \"Syracuse\"       NY\n",
      "56     32       35       59   \"N\"       82       20       23   \"W\"           \"Swainsboro\"       GA\n",
      "57     33       55       11   \"N\"       80       20       59   \"W\"               \"Sumter\"       SC\n",
      "58     40       59       24   \"N\"       75       11       24   \"W\"          \"Stroudsburg\"       PA\n",
      "59     37       57       35   \"N\"      121       17       24   \"W\"             \"Stockton\"       CA\n",
      "60     44       31       12   \"N\"       89       34       11   \"W\"        \"Stevens Point\"       WI\n",
      "61     40       21       36   \"N\"       80       37       12   \"W\"         \"Steubenville\"       OH\n",
      "62     40       37       11   \"N\"      103       13       12   \"W\"             \"Sterling\"       CO\n",
      "63     38        9        0   \"N\"       79        4       11   \"W\"             \"Staunton\"       VA\n",
      "64     39       55       11   \"N\"       83       48       35   \"W\"          \"Springfield\"       OH\n",
      "65     37       13       12   \"N\"       93       17       24   \"W\"          \"Springfield\"       MO\n",
      "66     42        5       59   \"N\"       72       35       23   \"W\"          \"Springfield\"       MA\n",
      "67     39       47       59   \"N\"       89       39        0   \"W\"          \"Springfield\"       IL\n",
      "68     47       40       11   \"N\"      117       24       36   \"W\"              \"Spokane\"       WA\n",
      "69     41       40       48   \"N\"       86       15        0   \"W\"           \"South Bend\"       IN\n",
      "70     43       32       24   \"N\"       96       43       48   \"W\"          \"Sioux Falls\"       SD\n",
      "71     42       29       24   \"N\"       96       23       23   \"W\"           \"Sioux City\"       IA\n",
      "72     32       30       35   \"N\"       93       45        0   \"W\"           \"Shreveport\"       LA\n",
      "73     33       38       23   \"N\"       96       36       36   \"W\"              \"Sherman\"       TX\n",
      "74     44       47       59   \"N\"      106       57       35   \"W\"             \"Sheridan\"       WY\n",
      "75     35       13       47   \"N\"       96       40       48   \"W\"             \"Seminole\"       OK\n",
      "76     32       25       11   \"N\"       87        1       11   \"W\"                \"Selma\"       AL\n",
      "77     38       42       35   \"N\"       93       13       48   \"W\"              \"Sedalia\"       MO\n",
      "78     47       35       59   \"N\"      122       19       48   \"W\"              \"Seattle\"       WA\n",
      "79     41       24       35   \"N\"       75       40       11   \"W\"             \"Scranton\"       PA\n",
      "80     41       52       11   \"N\"      103       39       36   \"W\"          \"Scottsbluff\"       NB\n",
      "81     42       49       11   \"N\"       73       56       59   \"W\"          \"Schenectady\"       NY\n",
      "82     32        4       48   \"N\"       81        5       23   \"W\"             \"Savannah\"       GA\n",
      "83     46       29       24   \"N\"       84       20       59   \"W\"   \"Sault Sainte Marie\"       MI\n",
      "84     27       20       24   \"N\"       82       31       47   \"W\"             \"Sarasota\"       FL\n",
      "85     38       26       23   \"N\"      122       43       12   \"W\"           \"Santa Rosa\"       CA\n",
      "86     35       40       48   \"N\"      105       56       59   \"W\"             \"Santa Fe\"       NM\n",
      "87     34       25       11   \"N\"      119       41       59   \"W\"        \"Santa Barbara\"       CA\n",
      "88     33       45       35   \"N\"      117       52       12   \"W\"            \"Santa Ana\"       CA\n",
      "89     37       20       24   \"N\"      121       52       47   \"W\"             \"San Jose\"       CA\n",
      "90     37       46       47   \"N\"      122       25       11   \"W\"        \"San Francisco\"       CA\n",
      "91     41       27        0   \"N\"       82       42       35   \"W\"             \"Sandusky\"       OH\n",
      "92     32       42       35   \"N\"      117        9        0   \"W\"            \"San Diego\"       CA\n",
      "93     34        6       36   \"N\"      117       18       35   \"W\"       \"San Bernardino\"       CA\n",
      "94     29       25       12   \"N\"       98       30        0   \"W\"          \"San Antonio\"       TX\n",
      "95     31       27       35   \"N\"      100       26       24   \"W\"           \"San Angelo\"       TX\n",
      "96     40       45       35   \"N\"      111       52       47   \"W\"       \"Salt Lake City\"       UT\n",
      "97     38       22       11   \"N\"       75       35       59   \"W\"            \"Salisbury\"       MD\n",
      "98     36       40       11   \"N\"      121       39        0   \"W\"              \"Salinas\"       CA\n",
      "99     38       50       24   \"N\"       97       36       36   \"W\"               \"Salina\"       KS\n",
      "100    38       31       47   \"N\"      106        0        0   \"W\"               \"Salida\"       CO\n",
      "101    44       56       23   \"N\"      123        1       47   \"W\"                \"Salem\"       OR\n",
      "102    44       57        0   \"N\"       93        5       59   \"W\"           \"Saint Paul\"       MN\n",
      "103    38       37       11   \"N\"       90       11       24   \"W\"          \"Saint Louis\"       MO\n",
      "104    39       46       12   \"N\"       94       50       23   \"W\"         \"Saint Joseph\"       MO\n",
      "105    42        5       59   \"N\"       86       28       48   \"W\"         \"Saint Joseph\"       MI\n",
      "106    44       25       11   \"N\"       72        1       11   \"W\"      \"Saint Johnsbury\"       VT\n",
      "107    45       34       11   \"N\"       94       10       11   \"W\"          \"Saint Cloud\"       MN\n",
      "108    29       53       23   \"N\"       81       19       11   \"W\"      \"Saint Augustine\"       FL\n",
      "109    43       25       48   \"N\"       83       56       24   \"W\"              \"Saginaw\"       MI\n",
      "110    38       35       24   \"N\"      121       29       23   \"W\"           \"Sacramento\"       CA\n",
      "111    43       36       36   \"N\"       72       58       12   \"W\"              \"Rutland\"       VT\n",
      "112    33       24        0   \"N\"      104       31       47   \"W\"              \"Roswell\"       NM\n",
      "113    35       56       23   \"N\"       77       48        0   \"W\"          \"Rocky Mount\"       NC\n",
      "114    41       35       24   \"N\"      109       13       48   \"W\"         \"Rock Springs\"       WY\n",
      "115    42       16       12   \"N\"       89        5       59   \"W\"             \"Rockford\"       IL\n",
      "116    43        9       35   \"N\"       77       36       36   \"W\"            \"Rochester\"       NY\n",
      "117    44        1       12   \"N\"       92       27       35   \"W\"            \"Rochester\"       MN\n",
      "118    37       16       12   \"N\"       79       56       24   \"W\"              \"Roanoke\"       VA\n",
      "119    37       32       24   \"N\"       77       26       59   \"W\"             \"Richmond\"       VA\n",
      "120    39       49       48   \"N\"       84       53       23   \"W\"             \"Richmond\"       IN\n",
      "121    38       46       12   \"N\"      112        5       23   \"W\"            \"Richfield\"       UT\n",
      "122    45       38       23   \"N\"       89       25       11   \"W\"          \"Rhinelander\"       WI\n",
      "123    39       31       12   \"N\"      119       48       35   \"W\"                 \"Reno\"       NV\n",
      "124    50       25       11   \"N\"      104       39        0   \"W\"               \"Regina\"       SA\n",
      "125    40       10       48   \"N\"      122       14       23   \"W\"            \"Red Bluff\"       CA\n",
      "126    40       19       48   \"N\"       75       55       48   \"W\"              \"Reading\"       PA\n",
      "127    41        9       35   \"N\"       81       14       23   \"W\"              \"Ravenna\"      OH \n"
     ]
    }
   ],
   "source": [
    "print(cities.to_string()) "
   ]
  },
  {
   "cell_type": "code",
   "execution_count": 24,
   "id": "50b48682",
   "metadata": {},
   "outputs": [
    {
     "ename": "NameError",
     "evalue": "name 'np' is not defined",
     "output_type": "error",
     "traceback": [
      "\u001b[1;31m---------------------------------------------------------------------------\u001b[0m",
      "\u001b[1;31mNameError\u001b[0m                                 Traceback (most recent call last)",
      "Input \u001b[1;32mIn [24]\u001b[0m, in \u001b[0;36m<cell line: 1>\u001b[1;34m()\u001b[0m\n\u001b[1;32m----> 1\u001b[0m df \u001b[38;5;241m=\u001b[39m pd\u001b[38;5;241m.\u001b[39mconcat([pd\u001b[38;5;241m.\u001b[39mDataFrame(np\u001b[38;5;241m.\u001b[39mrandom\u001b[38;5;241m.\u001b[39mrandint(\u001b[38;5;241m0\u001b[39m, \u001b[38;5;241m100\u001b[39m, size\u001b[38;5;241m=\u001b[39m(\u001b[38;5;241m2\u001b[39m\u001b[38;5;241m*\u001b[39m\u001b[38;5;241m*\u001b[39m\u001b[38;5;241m20\u001b[39m, \u001b[38;5;241m2\u001b[39m\u001b[38;5;241m*\u001b[39m\u001b[38;5;241m*\u001b[39m\u001b[38;5;241m8\u001b[39m))) \u001b[38;5;28;01mfor\u001b[39;00m _ \u001b[38;5;129;01min\u001b[39;00m \u001b[38;5;28mrange\u001b[39m(\u001b[38;5;241m40\u001b[39m)])\n",
      "Input \u001b[1;32mIn [24]\u001b[0m, in \u001b[0;36m<listcomp>\u001b[1;34m(.0)\u001b[0m\n\u001b[1;32m----> 1\u001b[0m df \u001b[38;5;241m=\u001b[39m pd\u001b[38;5;241m.\u001b[39mconcat([pd\u001b[38;5;241m.\u001b[39mDataFrame(\u001b[43mnp\u001b[49m\u001b[38;5;241m.\u001b[39mrandom\u001b[38;5;241m.\u001b[39mrandint(\u001b[38;5;241m0\u001b[39m, \u001b[38;5;241m100\u001b[39m, size\u001b[38;5;241m=\u001b[39m(\u001b[38;5;241m2\u001b[39m\u001b[38;5;241m*\u001b[39m\u001b[38;5;241m*\u001b[39m\u001b[38;5;241m20\u001b[39m, \u001b[38;5;241m2\u001b[39m\u001b[38;5;241m*\u001b[39m\u001b[38;5;241m*\u001b[39m\u001b[38;5;241m8\u001b[39m))) \u001b[38;5;28;01mfor\u001b[39;00m _ \u001b[38;5;129;01min\u001b[39;00m \u001b[38;5;28mrange\u001b[39m(\u001b[38;5;241m40\u001b[39m)])\n",
      "\u001b[1;31mNameError\u001b[0m: name 'np' is not defined"
     ]
    }
   ],
   "source": [
    "df = pd.concat([pd.DataFrame(np.random.randint(0, 100, size=(2**20, 2**8))) for _ in range(40)]) "
   ]
  },
  {
   "cell_type": "code",
   "execution_count": 26,
   "id": "c3313596",
   "metadata": {},
   "outputs": [],
   "source": [
    "import numpy as np"
   ]
  },
  {
   "cell_type": "code",
   "execution_count": 27,
   "id": "d5dd6320",
   "metadata": {},
   "outputs": [
    {
     "ename": "MemoryError",
     "evalue": "Unable to allocate 1.00 GiB for an array with shape (1048576, 256) and data type int32",
     "output_type": "error",
     "traceback": [
      "\u001b[1;31m---------------------------------------------------------------------------\u001b[0m",
      "\u001b[1;31mMemoryError\u001b[0m                               Traceback (most recent call last)",
      "Input \u001b[1;32mIn [27]\u001b[0m, in \u001b[0;36m<cell line: 1>\u001b[1;34m()\u001b[0m\n\u001b[1;32m----> 1\u001b[0m df \u001b[38;5;241m=\u001b[39m pd\u001b[38;5;241m.\u001b[39mconcat([pd\u001b[38;5;241m.\u001b[39mDataFrame(np\u001b[38;5;241m.\u001b[39mrandom\u001b[38;5;241m.\u001b[39mrandint(\u001b[38;5;241m0\u001b[39m, \u001b[38;5;241m100\u001b[39m, size\u001b[38;5;241m=\u001b[39m(\u001b[38;5;241m2\u001b[39m\u001b[38;5;241m*\u001b[39m\u001b[38;5;241m*\u001b[39m\u001b[38;5;241m20\u001b[39m, \u001b[38;5;241m2\u001b[39m\u001b[38;5;241m*\u001b[39m\u001b[38;5;241m*\u001b[39m\u001b[38;5;241m8\u001b[39m))) \u001b[38;5;28;01mfor\u001b[39;00m _ \u001b[38;5;129;01min\u001b[39;00m \u001b[38;5;28mrange\u001b[39m(\u001b[38;5;241m40\u001b[39m)])\n",
      "Input \u001b[1;32mIn [27]\u001b[0m, in \u001b[0;36m<listcomp>\u001b[1;34m(.0)\u001b[0m\n\u001b[1;32m----> 1\u001b[0m df \u001b[38;5;241m=\u001b[39m pd\u001b[38;5;241m.\u001b[39mconcat([pd\u001b[38;5;241m.\u001b[39mDataFrame(\u001b[43mnp\u001b[49m\u001b[38;5;241;43m.\u001b[39;49m\u001b[43mrandom\u001b[49m\u001b[38;5;241;43m.\u001b[39;49m\u001b[43mrandint\u001b[49m\u001b[43m(\u001b[49m\u001b[38;5;241;43m0\u001b[39;49m\u001b[43m,\u001b[49m\u001b[43m \u001b[49m\u001b[38;5;241;43m100\u001b[39;49m\u001b[43m,\u001b[49m\u001b[43m \u001b[49m\u001b[43msize\u001b[49m\u001b[38;5;241;43m=\u001b[39;49m\u001b[43m(\u001b[49m\u001b[38;5;241;43m2\u001b[39;49m\u001b[38;5;241;43m*\u001b[39;49m\u001b[38;5;241;43m*\u001b[39;49m\u001b[38;5;241;43m20\u001b[39;49m\u001b[43m,\u001b[49m\u001b[43m \u001b[49m\u001b[38;5;241;43m2\u001b[39;49m\u001b[38;5;241;43m*\u001b[39;49m\u001b[38;5;241;43m*\u001b[39;49m\u001b[38;5;241;43m8\u001b[39;49m\u001b[43m)\u001b[49m\u001b[43m)\u001b[49m) \u001b[38;5;28;01mfor\u001b[39;00m _ \u001b[38;5;129;01min\u001b[39;00m \u001b[38;5;28mrange\u001b[39m(\u001b[38;5;241m40\u001b[39m)])\n",
      "File \u001b[1;32mmtrand.pyx:746\u001b[0m, in \u001b[0;36mnumpy.random.mtrand.RandomState.randint\u001b[1;34m()\u001b[0m\n",
      "File \u001b[1;32m_bounded_integers.pyx:1347\u001b[0m, in \u001b[0;36mnumpy.random._bounded_integers._rand_int32\u001b[1;34m()\u001b[0m\n",
      "\u001b[1;31mMemoryError\u001b[0m: Unable to allocate 1.00 GiB for an array with shape (1048576, 256) and data type int32"
     ]
    }
   ],
   "source": [
    "df = pd.concat([pd.DataFrame(np.random.randint(0, 100, size=(2**20, 2**8))) for _ in range(40)]) "
   ]
  },
  {
   "cell_type": "code",
   "execution_count": null,
   "id": "4d1e3e1c",
   "metadata": {},
   "outputs": [],
   "source": [
    "print(df)"
   ]
  },
  {
   "cell_type": "code",
   "execution_count": 28,
   "id": "8da47207",
   "metadata": {},
   "outputs": [
    {
     "name": "stdout",
     "output_type": "stream",
     "text": [
      "     LatD   \"LatM\"   \"LatS\"  \"NS\"   \"LonD\"   \"LonM\"   \"LonS\"  \"EW\"                 \"City\"  \"State\"\n",
      "0      41        5       59   \"N\"       80       39        0   \"W\"           \"Youngstown\"       OH\n",
      "1      42       52       48   \"N\"       97       23       23   \"W\"              \"Yankton\"       SD\n",
      "2      46       35       59   \"N\"      120       30       36   \"W\"               \"Yakima\"       WA\n",
      "3      42       16       12   \"N\"       71       48        0   \"W\"            \"Worcester\"       MA\n",
      "4      43       37       48   \"N\"       89       46       11   \"W\"      \"Wisconsin Dells\"       WI\n",
      "5      36        5       59   \"N\"       80       15        0   \"W\"        \"Winston-Salem\"       NC\n",
      "6      49       52       48   \"N\"       97        9        0   \"W\"             \"Winnipeg\"       MB\n",
      "7      39       11       23   \"N\"       78        9       36   \"W\"           \"Winchester\"       VA\n",
      "8      34       14       24   \"N\"       77       55       11   \"W\"           \"Wilmington\"       NC\n",
      "9      39       45        0   \"N\"       75       33        0   \"W\"           \"Wilmington\"       DE\n",
      "10     48        9        0   \"N\"      103       37       12   \"W\"            \"Williston\"       ND\n",
      "11     41       15        0   \"N\"       77        0        0   \"W\"         \"Williamsport\"       PA\n",
      "12     37       40       48   \"N\"       82       16       47   \"W\"           \"Williamson\"       WV\n",
      "13     33       54        0   \"N\"       98       29       23   \"W\"        \"Wichita Falls\"       TX\n",
      "14     37       41       23   \"N\"       97       20       23   \"W\"              \"Wichita\"       KS\n",
      "15     40        4       11   \"N\"       80       43       12   \"W\"             \"Wheeling\"       WV\n",
      "16     26       43       11   \"N\"       80        3        0   \"W\"      \"West Palm Beach\"       FL\n",
      "17     47       25       11   \"N\"      120       19       11   \"W\"            \"Wenatchee\"       WA\n",
      "18     41       25       11   \"N\"      122       23       23   \"W\"                 \"Weed\"       CA\n",
      "19     31       13       11   \"N\"       82       20       59   \"W\"             \"Waycross\"       GA\n",
      "20     44       57       35   \"N\"       89       38       23   \"W\"               \"Wausau\"       WI\n",
      "21     42       21       36   \"N\"       87       49       48   \"W\"             \"Waukegan\"       IL\n",
      "22     44       54        0   \"N\"       97        6       36   \"W\"            \"Watertown\"       SD\n",
      "23     43       58       47   \"N\"       75       55       11   \"W\"            \"Watertown\"       NY\n",
      "24     42       30        0   \"N\"       92       20       23   \"W\"             \"Waterloo\"       IA\n",
      "25     41       32       59   \"N\"       73        3        0   \"W\"            \"Waterbury\"       CT\n",
      "26     38       53       23   \"N\"       77        1       47   \"W\"           \"Washington\"       DC\n",
      "27     41       50       59   \"N\"       79        8       23   \"W\"               \"Warren\"       PA\n",
      "28     46        4       11   \"N\"      118       19       48   \"W\"          \"Walla Walla\"       WA\n",
      "29     31       32       59   \"N\"       97        8       23   \"W\"                 \"Waco\"       TX\n",
      "30     38       40       48   \"N\"       87       31       47   \"W\"            \"Vincennes\"       IN\n",
      "31     28       48       35   \"N\"       97        0       36   \"W\"             \"Victoria\"       TX\n",
      "32     32       20       59   \"N\"       90       52       47   \"W\"            \"Vicksburg\"       MS\n",
      "33     49       16       12   \"N\"      123        7       12   \"W\"            \"Vancouver\"       BC\n",
      "34     46       55       11   \"N\"       98        0       36   \"W\"          \"Valley City\"       ND\n",
      "35     30       49       47   \"N\"       83       16       47   \"W\"             \"Valdosta\"       GA\n",
      "36     43        6       36   \"N\"       75       13       48   \"W\"                \"Utica\"       NY\n",
      "37     39       54        0   \"N\"       79       43       48   \"W\"            \"Uniontown\"       PA\n",
      "38     32       20       59   \"N\"       95       18        0   \"W\"                \"Tyler\"       TX\n",
      "39     42       33       36   \"N\"      114       28       12   \"W\"           \"Twin Falls\"       ID\n",
      "40     33       12       35   \"N\"       87       34       11   \"W\"           \"Tuscaloosa\"       AL\n",
      "41     34       15       35   \"N\"       88       42       35   \"W\"               \"Tupelo\"       MS\n",
      "42     36        9       35   \"N\"       95       54       36   \"W\"                \"Tulsa\"       OK\n",
      "43     32       13       12   \"N\"      110       58       12   \"W\"               \"Tucson\"       AZ\n",
      "44     37       10       11   \"N\"      104       30       36   \"W\"             \"Trinidad\"       CO\n",
      "45     40       13       47   \"N\"       74       46       11   \"W\"              \"Trenton\"       NJ\n",
      "46     44       45       35   \"N\"       85       37       47   \"W\"        \"Traverse City\"       MI\n",
      "47     43       39        0   \"N\"       79       22       47   \"W\"              \"Toronto\"       ON\n",
      "48     39        2       59   \"N\"       95       40       11   \"W\"               \"Topeka\"       KS\n",
      "49     41       39        0   \"N\"       83       32       24   \"W\"               \"Toledo\"       OH\n",
      "50     33       25       48   \"N\"       94        3        0   \"W\"            \"Texarkana\"       TX\n",
      "51     39       28       12   \"N\"       87       24       36   \"W\"          \"Terre Haute\"       IN\n",
      "52     27       57        0   \"N\"       82       26       59   \"W\"                \"Tampa\"       FL\n",
      "53     30       27        0   \"N\"       84       16       47   \"W\"          \"Tallahassee\"       FL\n",
      "54     47       14       24   \"N\"      122       25       48   \"W\"               \"Tacoma\"       WA\n",
      "55     43        2       59   \"N\"       76        9        0   \"W\"             \"Syracuse\"       NY\n",
      "56     32       35       59   \"N\"       82       20       23   \"W\"           \"Swainsboro\"       GA\n",
      "57     33       55       11   \"N\"       80       20       59   \"W\"               \"Sumter\"       SC\n",
      "58     40       59       24   \"N\"       75       11       24   \"W\"          \"Stroudsburg\"       PA\n",
      "59     37       57       35   \"N\"      121       17       24   \"W\"             \"Stockton\"       CA\n",
      "60     44       31       12   \"N\"       89       34       11   \"W\"        \"Stevens Point\"       WI\n",
      "61     40       21       36   \"N\"       80       37       12   \"W\"         \"Steubenville\"       OH\n",
      "62     40       37       11   \"N\"      103       13       12   \"W\"             \"Sterling\"       CO\n",
      "63     38        9        0   \"N\"       79        4       11   \"W\"             \"Staunton\"       VA\n",
      "64     39       55       11   \"N\"       83       48       35   \"W\"          \"Springfield\"       OH\n",
      "65     37       13       12   \"N\"       93       17       24   \"W\"          \"Springfield\"       MO\n",
      "66     42        5       59   \"N\"       72       35       23   \"W\"          \"Springfield\"       MA\n",
      "67     39       47       59   \"N\"       89       39        0   \"W\"          \"Springfield\"       IL\n",
      "68     47       40       11   \"N\"      117       24       36   \"W\"              \"Spokane\"       WA\n",
      "69     41       40       48   \"N\"       86       15        0   \"W\"           \"South Bend\"       IN\n",
      "70     43       32       24   \"N\"       96       43       48   \"W\"          \"Sioux Falls\"       SD\n",
      "71     42       29       24   \"N\"       96       23       23   \"W\"           \"Sioux City\"       IA\n",
      "72     32       30       35   \"N\"       93       45        0   \"W\"           \"Shreveport\"       LA\n",
      "73     33       38       23   \"N\"       96       36       36   \"W\"              \"Sherman\"       TX\n",
      "74     44       47       59   \"N\"      106       57       35   \"W\"             \"Sheridan\"       WY\n",
      "75     35       13       47   \"N\"       96       40       48   \"W\"             \"Seminole\"       OK\n",
      "76     32       25       11   \"N\"       87        1       11   \"W\"                \"Selma\"       AL\n",
      "77     38       42       35   \"N\"       93       13       48   \"W\"              \"Sedalia\"       MO\n",
      "78     47       35       59   \"N\"      122       19       48   \"W\"              \"Seattle\"       WA\n",
      "79     41       24       35   \"N\"       75       40       11   \"W\"             \"Scranton\"       PA\n",
      "80     41       52       11   \"N\"      103       39       36   \"W\"          \"Scottsbluff\"       NB\n",
      "81     42       49       11   \"N\"       73       56       59   \"W\"          \"Schenectady\"       NY\n",
      "82     32        4       48   \"N\"       81        5       23   \"W\"             \"Savannah\"       GA\n",
      "83     46       29       24   \"N\"       84       20       59   \"W\"   \"Sault Sainte Marie\"       MI\n",
      "84     27       20       24   \"N\"       82       31       47   \"W\"             \"Sarasota\"       FL\n",
      "85     38       26       23   \"N\"      122       43       12   \"W\"           \"Santa Rosa\"       CA\n",
      "86     35       40       48   \"N\"      105       56       59   \"W\"             \"Santa Fe\"       NM\n",
      "87     34       25       11   \"N\"      119       41       59   \"W\"        \"Santa Barbara\"       CA\n",
      "88     33       45       35   \"N\"      117       52       12   \"W\"            \"Santa Ana\"       CA\n",
      "89     37       20       24   \"N\"      121       52       47   \"W\"             \"San Jose\"       CA\n",
      "90     37       46       47   \"N\"      122       25       11   \"W\"        \"San Francisco\"       CA\n",
      "91     41       27        0   \"N\"       82       42       35   \"W\"             \"Sandusky\"       OH\n",
      "92     32       42       35   \"N\"      117        9        0   \"W\"            \"San Diego\"       CA\n",
      "93     34        6       36   \"N\"      117       18       35   \"W\"       \"San Bernardino\"       CA\n",
      "94     29       25       12   \"N\"       98       30        0   \"W\"          \"San Antonio\"       TX\n",
      "95     31       27       35   \"N\"      100       26       24   \"W\"           \"San Angelo\"       TX\n",
      "96     40       45       35   \"N\"      111       52       47   \"W\"       \"Salt Lake City\"       UT\n",
      "97     38       22       11   \"N\"       75       35       59   \"W\"            \"Salisbury\"       MD\n",
      "98     36       40       11   \"N\"      121       39        0   \"W\"              \"Salinas\"       CA\n",
      "99     38       50       24   \"N\"       97       36       36   \"W\"               \"Salina\"       KS\n",
      "100    38       31       47   \"N\"      106        0        0   \"W\"               \"Salida\"       CO\n",
      "101    44       56       23   \"N\"      123        1       47   \"W\"                \"Salem\"       OR\n",
      "102    44       57        0   \"N\"       93        5       59   \"W\"           \"Saint Paul\"       MN\n",
      "103    38       37       11   \"N\"       90       11       24   \"W\"          \"Saint Louis\"       MO\n",
      "104    39       46       12   \"N\"       94       50       23   \"W\"         \"Saint Joseph\"       MO\n",
      "105    42        5       59   \"N\"       86       28       48   \"W\"         \"Saint Joseph\"       MI\n",
      "106    44       25       11   \"N\"       72        1       11   \"W\"      \"Saint Johnsbury\"       VT\n",
      "107    45       34       11   \"N\"       94       10       11   \"W\"          \"Saint Cloud\"       MN\n",
      "108    29       53       23   \"N\"       81       19       11   \"W\"      \"Saint Augustine\"       FL\n",
      "109    43       25       48   \"N\"       83       56       24   \"W\"              \"Saginaw\"       MI\n",
      "110    38       35       24   \"N\"      121       29       23   \"W\"           \"Sacramento\"       CA\n",
      "111    43       36       36   \"N\"       72       58       12   \"W\"              \"Rutland\"       VT\n",
      "112    33       24        0   \"N\"      104       31       47   \"W\"              \"Roswell\"       NM\n",
      "113    35       56       23   \"N\"       77       48        0   \"W\"          \"Rocky Mount\"       NC\n",
      "114    41       35       24   \"N\"      109       13       48   \"W\"         \"Rock Springs\"       WY\n",
      "115    42       16       12   \"N\"       89        5       59   \"W\"             \"Rockford\"       IL\n",
      "116    43        9       35   \"N\"       77       36       36   \"W\"            \"Rochester\"       NY\n",
      "117    44        1       12   \"N\"       92       27       35   \"W\"            \"Rochester\"       MN\n",
      "118    37       16       12   \"N\"       79       56       24   \"W\"              \"Roanoke\"       VA\n",
      "119    37       32       24   \"N\"       77       26       59   \"W\"             \"Richmond\"       VA\n",
      "120    39       49       48   \"N\"       84       53       23   \"W\"             \"Richmond\"       IN\n",
      "121    38       46       12   \"N\"      112        5       23   \"W\"            \"Richfield\"       UT\n",
      "122    45       38       23   \"N\"       89       25       11   \"W\"          \"Rhinelander\"       WI\n",
      "123    39       31       12   \"N\"      119       48       35   \"W\"                 \"Reno\"       NV\n",
      "124    50       25       11   \"N\"      104       39        0   \"W\"               \"Regina\"       SA\n",
      "125    40       10       48   \"N\"      122       14       23   \"W\"            \"Red Bluff\"       CA\n",
      "126    40       19       48   \"N\"       75       55       48   \"W\"              \"Reading\"       PA\n",
      "127    41        9       35   \"N\"       81       14       23   \"W\"              \"Ravenna\"      OH \n"
     ]
    }
   ],
   "source": [
    "print(cities.to_string()) "
   ]
  },
  {
   "cell_type": "code",
   "execution_count": 30,
   "id": "1b4bcfd5",
   "metadata": {},
   "outputs": [],
   "source": [
    "data = pd.read_csv('car_data.csv')"
   ]
  },
  {
   "cell_type": "code",
   "execution_count": 31,
   "id": "6066af0e",
   "metadata": {},
   "outputs": [
    {
     "name": "stdout",
     "output_type": "stream",
     "text": [
      "                      Car_Name  Year  Selling_Price  Present_Price  Kms_Driven Fuel_Type Seller_Type Transmission  Owner\n",
      "0                         ritz  2014           3.35          5.590       27000    Petrol      Dealer       Manual      0\n",
      "1                          sx4  2013           4.75          9.540       43000    Diesel      Dealer       Manual      0\n",
      "2                         ciaz  2017           7.25          9.850        6900    Petrol      Dealer       Manual      0\n",
      "3                      wagon r  2011           2.85          4.150        5200    Petrol      Dealer       Manual      0\n",
      "4                        swift  2014           4.60          6.870       42450    Diesel      Dealer       Manual      0\n",
      "5                vitara brezza  2018           9.25          9.830        2071    Diesel      Dealer       Manual      0\n",
      "6                         ciaz  2015           6.75          8.120       18796    Petrol      Dealer       Manual      0\n",
      "7                      s cross  2015           6.50          8.610       33429    Diesel      Dealer       Manual      0\n",
      "8                         ciaz  2016           8.75          8.890       20273    Diesel      Dealer       Manual      0\n",
      "9                         ciaz  2015           7.45          8.920       42367    Diesel      Dealer       Manual      0\n",
      "10                    alto 800  2017           2.85          3.600        2135    Petrol      Dealer       Manual      0\n",
      "11                        ciaz  2015           6.85         10.380       51000    Diesel      Dealer       Manual      0\n",
      "12                        ciaz  2015           7.50          9.940       15000    Petrol      Dealer    Automatic      0\n",
      "13                      ertiga  2015           6.10          7.710       26000    Petrol      Dealer       Manual      0\n",
      "14                       dzire  2009           2.25          7.210       77427    Petrol      Dealer       Manual      0\n",
      "15                      ertiga  2016           7.75         10.790       43000    Diesel      Dealer       Manual      0\n",
      "16                      ertiga  2015           7.25         10.790       41678    Diesel      Dealer       Manual      0\n",
      "17                      ertiga  2016           7.75         10.790       43000    Diesel      Dealer       Manual      0\n",
      "18                     wagon r  2015           3.25          5.090       35500       CNG      Dealer       Manual      0\n",
      "19                         sx4  2010           2.65          7.980       41442    Petrol      Dealer       Manual      0\n",
      "20                    alto k10  2016           2.85          3.950       25000    Petrol      Dealer       Manual      0\n",
      "21                       ignis  2017           4.90          5.710        2400    Petrol      Dealer       Manual      0\n",
      "22                         sx4  2011           4.40          8.010       50000    Petrol      Dealer    Automatic      0\n",
      "23                    alto k10  2014           2.50          3.460       45280    Petrol      Dealer       Manual      0\n",
      "24                     wagon r  2013           2.90          4.410       56879    Petrol      Dealer       Manual      0\n",
      "25                       swift  2011           3.00          4.990       20000    Petrol      Dealer       Manual      0\n",
      "26                       swift  2013           4.15          5.870       55138    Petrol      Dealer       Manual      0\n",
      "27                       swift  2017           6.00          6.490       16200    Petrol  Individual       Manual      0\n",
      "28                    alto k10  2010           1.95          3.950       44542    Petrol      Dealer       Manual      0\n",
      "29                        ciaz  2015           7.45         10.380       45000    Diesel      Dealer       Manual      0\n",
      "30                        ritz  2012           3.10          5.980       51439    Diesel      Dealer       Manual      0\n",
      "31                        ritz  2011           2.35          4.890       54200    Petrol      Dealer       Manual      0\n",
      "32                       swift  2014           4.95          7.490       39000    Diesel      Dealer       Manual      0\n",
      "33                      ertiga  2014           6.00          9.950       45000    Diesel      Dealer       Manual      0\n",
      "34                       dzire  2014           5.50          8.060       45000    Diesel      Dealer       Manual      0\n",
      "35                         sx4  2011           2.95          7.740       49998       CNG      Dealer       Manual      0\n",
      "36                       dzire  2015           4.65          7.200       48767    Petrol      Dealer       Manual      0\n",
      "37                         800  2003           0.35          2.280      127000    Petrol  Individual       Manual      0\n",
      "38                    alto k10  2016           3.00          3.760       10079    Petrol      Dealer       Manual      0\n",
      "39                         sx4  2003           2.25          7.980       62000    Petrol      Dealer       Manual      0\n",
      "40                      baleno  2016           5.85          7.870       24524    Petrol      Dealer    Automatic      0\n",
      "41                    alto k10  2014           2.55          3.980       46706    Petrol      Dealer       Manual      0\n",
      "42                         sx4  2008           1.95          7.150       58000    Petrol      Dealer       Manual      0\n",
      "43                       dzire  2014           5.50          8.060       45780    Diesel      Dealer       Manual      0\n",
      "44                        omni  2012           1.25          2.690       50000    Petrol      Dealer       Manual      0\n",
      "45                        ciaz  2014           7.50         12.040       15000    Petrol      Dealer    Automatic      0\n",
      "46                        ritz  2013           2.65          4.890       64532    Petrol      Dealer       Manual      0\n",
      "47                     wagon r  2006           1.05          4.150       65000    Petrol      Dealer       Manual      0\n",
      "48                      ertiga  2015           5.80          7.710       25870    Petrol      Dealer       Manual      0\n",
      "49                        ciaz  2017           7.75          9.290       37000    Petrol      Dealer    Automatic      0\n",
      "50                    fortuner  2012          14.90         30.610      104707    Diesel      Dealer    Automatic      0\n",
      "51                    fortuner  2015          23.00         30.610       40000    Diesel      Dealer    Automatic      0\n",
      "52                      innova  2017          18.00         19.770       15000    Diesel      Dealer    Automatic      0\n",
      "53                    fortuner  2013          16.00         30.610      135000    Diesel  Individual    Automatic      0\n",
      "54                      innova  2005           2.75         10.210       90000    Petrol  Individual       Manual      0\n",
      "55               corolla altis  2009           3.60         15.040       70000    Petrol      Dealer    Automatic      0\n",
      "56                 etios cross  2015           4.50          7.270       40534    Petrol      Dealer       Manual      0\n",
      "57               corolla altis  2010           4.75         18.540       50000    Petrol      Dealer       Manual      0\n",
      "58                     etios g  2014           4.10          6.800       39485    Petrol      Dealer       Manual      1\n",
      "59                    fortuner  2014          19.99         35.960       41000    Diesel      Dealer    Automatic      0\n",
      "60               corolla altis  2013           6.95         18.610       40001    Petrol      Dealer       Manual      0\n",
      "61                 etios cross  2015           4.50          7.700       40588    Petrol      Dealer       Manual      0\n",
      "62                    fortuner  2014          18.75         35.960       78000    Diesel      Dealer    Automatic      0\n",
      "63                    fortuner  2015          23.50         35.960       47000    Diesel      Dealer    Automatic      0\n",
      "64                    fortuner  2017          33.00         36.230        6000    Diesel      Dealer    Automatic      0\n",
      "65                  etios liva  2014           4.75          6.950       45000    Diesel      Dealer       Manual      0\n",
      "66                      innova  2017          19.75         23.150       11000    Petrol      Dealer    Automatic      0\n",
      "67                    fortuner  2010           9.25         20.450       59000    Diesel      Dealer       Manual      0\n",
      "68               corolla altis  2011           4.35         13.740       88000    Petrol      Dealer       Manual      0\n",
      "69               corolla altis  2016          14.25         20.910       12000    Petrol      Dealer       Manual      0\n",
      "70                  etios liva  2014           3.95          6.760       71000    Diesel      Dealer       Manual      0\n",
      "71               corolla altis  2011           4.50         12.480       45000    Diesel      Dealer       Manual      0\n",
      "72               corolla altis  2013           7.45         18.610       56001    Petrol      Dealer       Manual      0\n",
      "73                  etios liva  2011           2.65          5.710       43000    Petrol      Dealer       Manual      0\n",
      "74                 etios cross  2014           4.90          8.930       83000    Diesel      Dealer       Manual      0\n",
      "75                     etios g  2015           3.95          6.800       36000    Petrol      Dealer       Manual      0\n",
      "76               corolla altis  2013           5.50         14.680       72000    Petrol      Dealer       Manual      0\n",
      "77                     corolla  2004           1.50         12.350      135154    Petrol      Dealer    Automatic      0\n",
      "78               corolla altis  2010           5.25         22.830       80000    Petrol      Dealer    Automatic      0\n",
      "79                    fortuner  2012          14.50         30.610       89000    Diesel      Dealer    Automatic      0\n",
      "80               corolla altis  2016          14.73         14.890       23000    Diesel      Dealer       Manual      0\n",
      "81                    etios gd  2015           4.75          7.850       40000    Diesel      Dealer       Manual      0\n",
      "82                      innova  2017          23.00         25.390       15000    Diesel      Dealer    Automatic      0\n",
      "83                      innova  2015          12.50         13.460       38000    Diesel      Dealer       Manual      0\n",
      "84                      innova  2005           3.49         13.460      197176    Diesel      Dealer       Manual      0\n",
      "85                       camry  2006           2.50         23.730      142000    Petrol  Individual    Automatic      3\n",
      "86                land cruiser  2010          35.00         92.600       78000    Diesel      Dealer       Manual      0\n",
      "87               corolla altis  2012           5.90         13.740       56000    Petrol      Dealer       Manual      0\n",
      "88                  etios liva  2013           3.45          6.050       47000    Petrol      Dealer       Manual      0\n",
      "89                     etios g  2014           4.75          6.760       40000    Petrol      Dealer       Manual      0\n",
      "90               corolla altis  2009           3.80         18.610       62000    Petrol      Dealer       Manual      0\n",
      "91                      innova  2014          11.25         16.090       58242    Diesel      Dealer       Manual      0\n",
      "92                      innova  2005           3.51         13.700       75000    Petrol      Dealer       Manual      0\n",
      "93                    fortuner  2015          23.00         30.610       40000    Diesel      Dealer    Automatic      0\n",
      "94               corolla altis  2008           4.00         22.780       89000    Petrol      Dealer    Automatic      0\n",
      "95               corolla altis  2012           5.85         18.610       72000    Petrol      Dealer       Manual      0\n",
      "96                      innova  2016          20.75         25.390       29000    Diesel      Dealer    Automatic      0\n",
      "97               corolla altis  2017          17.00         18.640        8700    Petrol      Dealer       Manual      0\n",
      "98               corolla altis  2013           7.05         18.610       45000    Petrol      Dealer       Manual      0\n",
      "99                    fortuner  2010           9.65         20.450       50024    Diesel      Dealer       Manual      0\n",
      "100  Royal Enfield Thunder 500  2016           1.75          1.900        3000    Petrol  Individual       Manual      0\n",
      "101         UM Renegade Mojave  2017           1.70          1.820        1400    Petrol  Individual       Manual      0\n",
      "102                  KTM RC200  2017           1.65          1.780        4000    Petrol  Individual       Manual      0\n",
      "103          Bajaj Dominar 400  2017           1.45          1.600        1200    Petrol  Individual       Manual      0\n",
      "104  Royal Enfield Classic 350  2017           1.35          1.470        4100    Petrol  Individual       Manual      0\n",
      "105                  KTM RC390  2015           1.35          2.370       21700    Petrol  Individual       Manual      0\n",
      "106             Hyosung GT250R  2014           1.35          3.450       16500    Petrol  Individual       Manual      1\n",
      "107  Royal Enfield Thunder 350  2013           1.25          1.500       15000    Petrol  Individual       Manual      0\n",
      "108  Royal Enfield Thunder 350  2016           1.20          1.500       18000    Petrol  Individual       Manual      0\n",
      "109  Royal Enfield Classic 350  2017           1.20          1.470       11000    Petrol  Individual       Manual      0\n",
      "110                  KTM RC200  2016           1.20          1.780        6000    Petrol  Individual       Manual      0\n",
      "111  Royal Enfield Thunder 350  2016           1.15          1.500        8700    Petrol  Individual       Manual      0\n",
      "112              KTM 390 Duke   2014           1.15          2.400        7000    Petrol  Individual       Manual      0\n",
      "113        Mahindra Mojo XT300  2016           1.15          1.400       35000    Petrol  Individual       Manual      0\n",
      "114  Royal Enfield Classic 350  2015           1.15          1.470       17000    Petrol  Individual       Manual      0\n",
      "115  Royal Enfield Classic 350  2015           1.11          1.470       17500    Petrol  Individual       Manual      0\n",
      "116  Royal Enfield Classic 350  2013           1.10          1.470       33000    Petrol  Individual       Manual      0\n",
      "117  Royal Enfield Thunder 500  2015           1.10          1.900       14000    Petrol  Individual       Manual      0\n",
      "118  Royal Enfield Classic 350  2015           1.10          1.470       26000    Petrol  Individual       Manual      0\n",
      "119  Royal Enfield Thunder 500  2013           1.05          1.900        5400    Petrol  Individual       Manual      0\n",
      "120         Bajaj Pulsar RS200  2016           1.05          1.260        5700    Petrol  Individual       Manual      0\n",
      "121  Royal Enfield Thunder 350  2011           1.05          1.500        6900    Petrol  Individual       Manual      0\n",
      "122   Royal Enfield Bullet 350  2016           1.05          1.170        6000    Petrol  Individual       Manual      0\n",
      "123  Royal Enfield Classic 350  2013           1.00          1.470       46500    Petrol  Individual       Manual      0\n",
      "124  Royal Enfield Classic 500  2012           0.95          1.750       11500    Petrol  Individual       Manual      0\n",
      "125  Royal Enfield Classic 500  2009           0.90          1.750       40000    Petrol  Individual       Manual      0\n",
      "126          Bajaj Avenger 220  2017           0.90          0.950        1300    Petrol  Individual       Manual      0\n",
      "127          Bajaj Avenger 150  2016           0.75          0.800        7000    Petrol  Individual       Manual      0\n",
      "128       Honda CB Hornet 160R  2017           0.80          0.870        3000    Petrol  Individual       Manual      0\n",
      "129          Yamaha FZ S V 2.0  2017           0.78          0.840        5000    Petrol  Individual       Manual      0\n",
      "130       Honda CB Hornet 160R  2017           0.75          0.870       11000    Petrol  Individual       Manual      0\n",
      "131               Yamaha FZ 16  2015           0.75          0.820       18000    Petrol  Individual       Manual      0\n",
      "132          Bajaj Avenger 220  2017           0.75          0.950        3500    Petrol  Individual       Manual      0\n",
      "133          Bajaj Avenger 220  2016           0.72          0.950         500    Petrol  Individual       Manual      0\n",
      "134         TVS Apache RTR 160  2017           0.65          0.810       11800    Petrol  Individual       Manual      0\n",
      "135           Bajaj Pulsar 150  2015           0.65          0.740        5000    Petrol  Individual       Manual      0\n",
      "136              Honda CBR 150  2014           0.65          1.200       23500    Petrol  Individual       Manual      0\n",
      "137               Hero Extreme  2013           0.65          0.787       16000    Petrol  Individual       Manual      0\n",
      "138       Honda CB Hornet 160R  2016           0.60          0.870       15000    Petrol  Individual       Manual      0\n",
      "139     Bajaj Avenger 220 dtsi  2015           0.60          0.950       16600    Petrol  Individual       Manual      0\n",
      "140              Honda CBR 150  2013           0.60          1.200       32000    Petrol  Individual       Manual      0\n",
      "141   Bajaj Avenger 150 street  2016           0.60          0.800       20000    Petrol  Individual       Manual      0\n",
      "142           Yamaha FZ  v 2.0  2015           0.60          0.840       29000    Petrol  Individual       Manual      0\n",
      "143           Yamaha FZ  v 2.0  2016           0.60          0.840       25000    Petrol  Individual       Manual      0\n",
      "144       Bajaj Pulsar  NS 200  2014           0.60          0.990       25000    Petrol  Individual       Manual      0\n",
      "145         TVS Apache RTR 160  2012           0.60          0.810       19000    Petrol  Individual       Manual      0\n",
      "146               Hero Extreme  2014           0.55          0.787       15000    Petrol  Individual       Manual      0\n",
      "147          Yamaha FZ S V 2.0  2015           0.55          0.840       58000    Petrol  Individual       Manual      0\n",
      "148         Bajaj Pulsar 220 F  2010           0.52          0.940       45000    Petrol  Individual       Manual      0\n",
      "149         Bajaj Pulsar 220 F  2016           0.51          0.940       24000    Petrol  Individual       Manual      0\n",
      "150         TVS Apache RTR 180  2011           0.50          0.826        6000    Petrol  Individual       Manual      0\n",
      "151         Hero Passion X pro  2016           0.50          0.550       31000    Petrol  Individual       Manual      0\n",
      "152        Bajaj Pulsar NS 200  2012           0.50          0.990       13000    Petrol  Individual       Manual      0\n",
      "153        Bajaj Pulsar NS 200  2013           0.50          0.990       45000    Petrol  Individual       Manual      0\n",
      "154              Yamaha Fazer   2014           0.50          0.880        8000    Petrol  Individual       Manual      0\n",
      "155            Honda Activa 4G  2017           0.48          0.510        4300    Petrol  Individual    Automatic      0\n",
      "156                 TVS Sport   2017           0.48          0.520       15000    Petrol  Individual       Manual      0\n",
      "157          Yamaha FZ S V 2.0  2015           0.48          0.840       23000    Petrol  Individual       Manual      0\n",
      "158          Honda Dream Yuga   2017           0.48          0.540        8600    Petrol  Individual       Manual      0\n",
      "159            Honda Activa 4G  2017           0.45          0.510        4000    Petrol  Individual    Automatic      0\n",
      "160   Bajaj Avenger Street 220  2011           0.45          0.950       24000    Petrol  Individual       Manual      0\n",
      "161         TVS Apache RTR 180  2014           0.45          0.826       23000    Petrol  Individual       Manual      0\n",
      "162        Bajaj Pulsar NS 200  2012           0.45          0.990       14500    Petrol  Individual       Manual      0\n",
      "163     Bajaj Avenger 220 dtsi  2010           0.45          0.950       27000    Petrol  Individual       Manual      0\n",
      "164       Hero Splender iSmart  2016           0.45          0.540       14000    Petrol  Individual       Manual      0\n",
      "165                  Activa 3g  2016           0.45          0.540         500    Petrol  Individual    Automatic      0\n",
      "166           Hero Passion Pro  2016           0.45          0.550        1000    Petrol  Individual       Manual      0\n",
      "167         TVS Apache RTR 160  2014           0.42          0.810       42000    Petrol  Individual       Manual      0\n",
      "168           Honda CB Trigger  2013           0.42          0.730       12000    Petrol  Individual       Manual      0\n",
      "169       Hero Splender iSmart  2015           0.40          0.540       14000    Petrol  Individual       Manual      0\n",
      "170               Yamaha FZ S   2012           0.40          0.830        5500    Petrol  Individual       Manual      0\n",
      "171           Hero Passion Pro  2015           0.40          0.550        6700    Petrol  Individual       Manual      0\n",
      "172        Bajaj Pulsar 135 LS  2014           0.40          0.640       13700    Petrol  Individual       Manual      0\n",
      "173                  Activa 4g  2017           0.40          0.510        1300    Petrol  Individual    Automatic      0\n",
      "174           Honda CB Unicorn  2015           0.38          0.720       38600    Petrol  Individual       Manual      0\n",
      "175     Hero Honda CBZ extreme  2011           0.38          0.787       75000    Petrol  Individual       Manual      0\n",
      "176              Honda Karizma  2011           0.35          1.050       30000    Petrol  Individual       Manual      0\n",
      "177           Honda Activa 125  2016           0.35          0.570       24000    Petrol  Individual    Automatic      0\n",
      "178                TVS Jupyter  2014           0.35          0.520       19000    Petrol  Individual    Automatic      0\n",
      "179              Honda Karizma  2010           0.31          1.050      213000    Petrol  Individual       Manual      0\n",
      "180     Hero Honda Passion Pro  2012           0.30          0.510       60000    Petrol  Individual       Manual      0\n",
      "181         Hero Splender Plus  2016           0.30          0.480       50000    Petrol  Individual       Manual      0\n",
      "182             Honda CB Shine  2013           0.30          0.580       30000    Petrol  Individual       Manual      0\n",
      "183         Bajaj Discover 100  2013           0.27          0.470       21000    Petrol  Individual       Manual      0\n",
      "184           Bajaj Pulsar 150  2008           0.25          0.750       26000    Petrol  Individual       Manual      1\n",
      "185          Suzuki Access 125  2008           0.25          0.580        1900    Petrol  Individual    Automatic      0\n",
      "186                   TVS Wego  2010           0.25          0.520       22000    Petrol  Individual    Automatic      0\n",
      "187           Honda CB twister  2013           0.25          0.510       32000    Petrol  Individual       Manual      0\n",
      "188               Hero Glamour  2013           0.25          0.570       18000    Petrol  Individual       Manual      0\n",
      "189        Hero Super Splendor  2005           0.20          0.570       55000    Petrol  Individual       Manual      0\n",
      "190           Bajaj Pulsar 150  2008           0.20          0.750       60000    Petrol  Individual       Manual      0\n",
      "191         Bajaj Discover 125  2012           0.20          0.570       25000    Petrol  Individual       Manual      1\n",
      "192                  Hero Hunk  2007           0.20          0.750       49000    Petrol  Individual       Manual      1\n",
      "193         Hero  Ignitor Disc  2013           0.20          0.650       24000    Petrol  Individual       Manual      1\n",
      "194           Hero  CBZ Xtreme  2008           0.20          0.787       50000    Petrol  Individual       Manual      0\n",
      "195              Bajaj  ct 100  2015           0.18          0.320       35000    Petrol  Individual       Manual      0\n",
      "196                  Activa 3g  2008           0.17          0.520      500000    Petrol  Individual    Automatic      0\n",
      "197           Honda CB twister  2010           0.16          0.510       33000    Petrol  Individual       Manual      0\n",
      "198         Bajaj Discover 125  2011           0.15          0.570       35000    Petrol  Individual       Manual      1\n",
      "199             Honda CB Shine  2007           0.12          0.580       53000    Petrol  Individual       Manual      0\n",
      "200           Bajaj Pulsar 150  2006           0.10          0.750       92233    Petrol  Individual       Manual      0\n",
      "201                        i20  2010           3.25          6.790       58000    Diesel      Dealer       Manual      1\n",
      "202                  grand i10  2015           4.40          5.700       28200    Petrol      Dealer       Manual      0\n",
      "203                        i10  2011           2.95          4.600       53460    Petrol      Dealer       Manual      0\n",
      "204                        eon  2015           2.75          4.430       28282    Petrol      Dealer       Manual      0\n",
      "205                  grand i10  2016           5.25          5.700        3493    Petrol      Dealer       Manual      1\n",
      "206                      xcent  2017           5.75          7.130       12479    Petrol      Dealer       Manual      0\n",
      "207                  grand i10  2015           5.15          5.700       34797    Petrol      Dealer    Automatic      0\n",
      "208                        i20  2017           7.90          8.100        3435    Petrol      Dealer       Manual      0\n",
      "209                  grand i10  2015           4.85          5.700       21125    Diesel      Dealer       Manual      0\n",
      "210                        i10  2012           3.10          4.600       35775    Petrol      Dealer       Manual      0\n",
      "211                    elantra  2015          11.75         14.790       43535    Diesel      Dealer       Manual      0\n",
      "212                      creta  2016          11.25         13.600       22671    Petrol      Dealer       Manual      0\n",
      "213                        i20  2011           2.90          6.790       31604    Petrol      Dealer       Manual      0\n",
      "214                  grand i10  2017           5.25          5.700       20114    Petrol      Dealer       Manual      0\n",
      "215                      verna  2012           4.50          9.400       36100    Petrol      Dealer       Manual      0\n",
      "216                        eon  2016           2.90          4.430       12500    Petrol      Dealer       Manual      0\n",
      "217                        eon  2016           3.15          4.430       15000    Petrol      Dealer       Manual      0\n",
      "218                      verna  2014           6.45          9.400       45078    Petrol      Dealer       Manual      0\n",
      "219                      verna  2012           4.50          9.400       36000    Petrol      Dealer       Manual      0\n",
      "220                        eon  2017           3.50          4.430       38488    Petrol      Dealer       Manual      0\n",
      "221                        i20  2013           4.50          6.790       32000    Petrol      Dealer    Automatic      0\n",
      "222                        i20  2014           6.00          7.600       77632    Diesel      Dealer       Manual      0\n",
      "223                      verna  2015           8.25          9.400       61381    Diesel      Dealer       Manual      0\n",
      "224                      verna  2013           5.11          9.400       36198    Petrol      Dealer    Automatic      0\n",
      "225                        i10  2011           2.70          4.600       22517    Petrol      Dealer       Manual      0\n",
      "226                  grand i10  2015           5.25          5.700       24678    Petrol      Dealer       Manual      0\n",
      "227                        i10  2011           2.55          4.430       57000    Petrol      Dealer       Manual      0\n",
      "228                      verna  2012           4.95          9.400       60000    Diesel      Dealer       Manual      0\n",
      "229                        i20  2012           3.10          6.790       52132    Diesel      Dealer       Manual      0\n",
      "230                      verna  2013           6.15          9.400       45000    Diesel      Dealer       Manual      0\n",
      "231                      verna  2017           9.25          9.400       15001    Petrol      Dealer       Manual      0\n",
      "232                    elantra  2015          11.45         14.790       12900    Petrol      Dealer    Automatic      0\n",
      "233                  grand i10  2013           3.90          5.700       53000    Diesel      Dealer       Manual      0\n",
      "234                  grand i10  2015           5.50          5.700        4492    Petrol      Dealer       Manual      0\n",
      "235                      verna  2017           9.10          9.400       15141    Petrol      Dealer       Manual      0\n",
      "236                        eon  2016           3.10          4.430       11849    Petrol      Dealer       Manual      0\n",
      "237                      creta  2015          11.25         13.600       68000    Diesel      Dealer       Manual      0\n",
      "238                      verna  2013           4.80          9.400       60241    Petrol      Dealer       Manual      0\n",
      "239                        eon  2012           2.00          4.430       23709    Petrol      Dealer       Manual      0\n",
      "240                      verna  2012           5.35          9.400       32322    Diesel      Dealer       Manual      0\n",
      "241                      xcent  2015           4.75          7.130       35866    Petrol      Dealer       Manual      1\n",
      "242                      xcent  2014           4.40          7.130       34000    Petrol      Dealer       Manual      0\n",
      "243                        i20  2016           6.25          7.600        7000    Petrol      Dealer       Manual      0\n",
      "244                      verna  2013           5.95          9.400       49000    Diesel      Dealer       Manual      0\n",
      "245                      verna  2012           5.20          9.400       71000    Diesel      Dealer       Manual      0\n",
      "246                        i20  2012           3.75          6.790       35000    Petrol      Dealer       Manual      0\n",
      "247                      verna  2015           5.95          9.400       36000    Petrol      Dealer       Manual      0\n",
      "248                        i10  2013           4.00          4.600       30000    Petrol      Dealer       Manual      0\n",
      "249                        i20  2016           5.25          7.600       17000    Petrol      Dealer       Manual      0\n",
      "250                      creta  2016          12.90         13.600       35934    Diesel      Dealer       Manual      0\n",
      "251                       city  2013           5.00          9.900       56701    Petrol      Dealer       Manual      0\n",
      "252                       brio  2015           5.40          6.820       31427    Petrol      Dealer    Automatic      0\n",
      "253                       city  2014           7.20          9.900       48000    Diesel      Dealer       Manual      0\n",
      "254                       city  2013           5.25          9.900       54242    Petrol      Dealer       Manual      0\n",
      "255                       brio  2012           3.00          5.350       53675    Petrol      Dealer       Manual      0\n",
      "256                       city  2016          10.25         13.600       49562    Petrol      Dealer       Manual      0\n",
      "257                       city  2015           8.50         13.600       40324    Petrol      Dealer       Manual      0\n",
      "258                       city  2015           8.40         13.600       25000    Petrol      Dealer       Manual      0\n",
      "259                      amaze  2014           3.90          7.000       36054    Petrol      Dealer       Manual      0\n",
      "260                       city  2016           9.15         13.600       29223    Petrol      Dealer       Manual      0\n",
      "261                       brio  2016           5.50          5.970        5600    Petrol      Dealer       Manual      0\n",
      "262                      amaze  2015           4.00          5.800       40023    Petrol      Dealer       Manual      0\n",
      "263                       jazz  2016           6.60          7.700       16002    Petrol      Dealer       Manual      0\n",
      "264                      amaze  2015           4.00          7.000       40026    Petrol      Dealer       Manual      0\n",
      "265                       jazz  2017           6.50          8.700       21200    Petrol      Dealer       Manual      0\n",
      "266                      amaze  2014           3.65          7.000       35000    Petrol      Dealer       Manual      0\n",
      "267                       city  2016           8.35          9.400       19434    Diesel      Dealer       Manual      0\n",
      "268                       brio  2017           4.80          5.800       19000    Petrol      Dealer       Manual      0\n",
      "269                       city  2015           6.70         10.000       18828    Petrol      Dealer       Manual      0\n",
      "270                       city  2011           4.10         10.000       69341    Petrol      Dealer       Manual      0\n",
      "271                       city  2009           3.00         10.000       69562    Petrol      Dealer       Manual      0\n",
      "272                       city  2015           7.50         10.000       27600    Petrol      Dealer       Manual      0\n",
      "273                       jazz  2010           2.25          7.500       61203    Petrol      Dealer       Manual      0\n",
      "274                       brio  2014           5.30          6.800       16500    Petrol      Dealer       Manual      0\n",
      "275                       city  2016          10.90         13.600       30753    Petrol      Dealer    Automatic      0\n",
      "276                       city  2015           8.65         13.600       24800    Petrol      Dealer       Manual      0\n",
      "277                       city  2015           9.70         13.600       21780    Petrol      Dealer       Manual      0\n",
      "278                       jazz  2016           6.00          8.400        4000    Petrol      Dealer       Manual      0\n",
      "279                       city  2014           6.25         13.600       40126    Petrol      Dealer       Manual      0\n",
      "280                       brio  2015           5.25          5.900       14465    Petrol      Dealer       Manual      0\n",
      "281                       city  2006           2.10          7.600       50456    Petrol      Dealer       Manual      0\n",
      "282                       city  2014           8.25         14.000       63000    Diesel      Dealer       Manual      0\n",
      "283                       city  2016           8.99         11.800        9010    Petrol      Dealer       Manual      0\n",
      "284                       brio  2013           3.50          5.900        9800    Petrol      Dealer       Manual      0\n",
      "285                       jazz  2016           7.40          8.500       15059    Petrol      Dealer    Automatic      0\n",
      "286                       jazz  2016           5.65          7.900       28569    Petrol      Dealer       Manual      0\n",
      "287                      amaze  2015           5.75          7.500       44000    Petrol      Dealer    Automatic      0\n",
      "288                       city  2015           8.40         13.600       34000    Petrol      Dealer       Manual      0\n",
      "289                       city  2016          10.11         13.600       10980    Petrol      Dealer       Manual      0\n",
      "290                      amaze  2014           4.50          6.400       19000    Petrol      Dealer       Manual      0\n",
      "291                       brio  2015           5.40          6.100       31427    Petrol      Dealer       Manual      0\n",
      "292                       jazz  2016           6.40          8.400       12000    Petrol      Dealer       Manual      0\n",
      "293                       city  2010           3.25          9.900       38000    Petrol      Dealer       Manual      0\n",
      "294                      amaze  2014           3.75          6.800       33019    Petrol      Dealer       Manual      0\n",
      "295                       city  2015           8.55         13.090       60076    Diesel      Dealer       Manual      0\n",
      "296                       city  2016           9.50         11.600       33988    Diesel      Dealer       Manual      0\n",
      "297                       brio  2015           4.00          5.900       60000    Petrol      Dealer       Manual      0\n",
      "298                       city  2009           3.35         11.000       87934    Petrol      Dealer       Manual      0\n",
      "299                       city  2017          11.50         12.500        9000    Diesel      Dealer       Manual      0\n",
      "300                       brio  2016           5.30          5.900        5464    Petrol      Dealer       Manual      0\n"
     ]
    }
   ],
   "source": [
    "print(data.to_string())"
   ]
  },
  {
   "cell_type": "code",
   "execution_count": 32,
   "id": "a450646d",
   "metadata": {},
   "outputs": [
    {
     "data": {
      "text/plain": [
       "pandas.core.frame.DataFrame"
      ]
     },
     "execution_count": 32,
     "metadata": {},
     "output_type": "execute_result"
    }
   ],
   "source": [
    "type(data)"
   ]
  },
  {
   "cell_type": "code",
   "execution_count": 33,
   "id": "60561ade",
   "metadata": {},
   "outputs": [
    {
     "name": "stdout",
     "output_type": "stream",
     "text": [
      "    Car_Name  Year  Selling_Price  Present_Price  Kms_Driven Fuel_Type  \\\n",
      "0       ritz  2014           3.35           5.59       27000    Petrol   \n",
      "1        sx4  2013           4.75           9.54       43000    Diesel   \n",
      "2       ciaz  2017           7.25           9.85        6900    Petrol   \n",
      "3    wagon r  2011           2.85           4.15        5200    Petrol   \n",
      "4      swift  2014           4.60           6.87       42450    Diesel   \n",
      "..       ...   ...            ...            ...         ...       ...   \n",
      "296     city  2016           9.50          11.60       33988    Diesel   \n",
      "297     brio  2015           4.00           5.90       60000    Petrol   \n",
      "298     city  2009           3.35          11.00       87934    Petrol   \n",
      "299     city  2017          11.50          12.50        9000    Diesel   \n",
      "300     brio  2016           5.30           5.90        5464    Petrol   \n",
      "\n",
      "    Seller_Type Transmission  Owner  \n",
      "0        Dealer       Manual      0  \n",
      "1        Dealer       Manual      0  \n",
      "2        Dealer       Manual      0  \n",
      "3        Dealer       Manual      0  \n",
      "4        Dealer       Manual      0  \n",
      "..          ...          ...    ...  \n",
      "296      Dealer       Manual      0  \n",
      "297      Dealer       Manual      0  \n",
      "298      Dealer       Manual      0  \n",
      "299      Dealer       Manual      0  \n",
      "300      Dealer       Manual      0  \n",
      "\n",
      "[301 rows x 9 columns]\n"
     ]
    }
   ],
   "source": [
    "print(data)"
   ]
  },
  {
   "cell_type": "code",
   "execution_count": 40,
   "id": "c886fdfe",
   "metadata": {},
   "outputs": [
    {
     "name": "stdout",
     "output_type": "stream",
     "text": [
      "Car_Name               800\n",
      "Year                  2003\n",
      "Selling_Price          0.1\n",
      "Present_Price         0.32\n",
      "Kms_Driven             500\n",
      "Fuel_Type              CNG\n",
      "Seller_Type         Dealer\n",
      "Transmission     Automatic\n",
      "Owner                    0\n",
      "dtype: object\n"
     ]
    }
   ],
   "source": [
    "print(data.min())"
   ]
  },
  {
   "cell_type": "code",
   "execution_count": 37,
   "id": "648ffcca",
   "metadata": {},
   "outputs": [
    {
     "name": "stdout",
     "output_type": "stream",
     "text": [
      "Car_Name              xcent\n",
      "Year                   2018\n",
      "Selling_Price          35.0\n",
      "Present_Price          92.6\n",
      "Kms_Driven           500000\n",
      "Fuel_Type            Petrol\n",
      "Seller_Type      Individual\n",
      "Transmission         Manual\n",
      "Owner                     3\n",
      "dtype: object\n"
     ]
    }
   ],
   "source": [
    "print(data.max())"
   ]
  },
  {
   "cell_type": "code",
   "execution_count": 42,
   "id": "ac42363b",
   "metadata": {},
   "outputs": [
    {
     "data": {
      "text/plain": [
       "min    2003\n",
       "max    2018\n",
       "Name: Year, dtype: int64"
      ]
     },
     "execution_count": 42,
     "metadata": {},
     "output_type": "execute_result"
    }
   ],
   "source": [
    "data['Year'].agg(['min', 'max'])"
   ]
  },
  {
   "cell_type": "code",
   "execution_count": 44,
   "id": "d5fbd40a",
   "metadata": {},
   "outputs": [
    {
     "data": {
      "text/plain": [
       "min     0.1\n",
       "max    35.0\n",
       "Name: Selling_Price, dtype: float64"
      ]
     },
     "execution_count": 44,
     "metadata": {},
     "output_type": "execute_result"
    }
   ],
   "source": [
    "data['Selling_Price'].agg(['min', 'max'])"
   ]
  },
  {
   "cell_type": "code",
   "execution_count": 45,
   "id": "d898956c",
   "metadata": {},
   "outputs": [
    {
     "data": {
      "text/html": [
       "<div>\n",
       "<style scoped>\n",
       "    .dataframe tbody tr th:only-of-type {\n",
       "        vertical-align: middle;\n",
       "    }\n",
       "\n",
       "    .dataframe tbody tr th {\n",
       "        vertical-align: top;\n",
       "    }\n",
       "\n",
       "    .dataframe thead th {\n",
       "        text-align: right;\n",
       "    }\n",
       "</style>\n",
       "<table border=\"1\" class=\"dataframe\">\n",
       "  <thead>\n",
       "    <tr style=\"text-align: right;\">\n",
       "      <th></th>\n",
       "      <th>Year</th>\n",
       "      <th>Selling_Price</th>\n",
       "      <th>Present_Price</th>\n",
       "      <th>Kms_Driven</th>\n",
       "      <th>Owner</th>\n",
       "    </tr>\n",
       "  </thead>\n",
       "  <tbody>\n",
       "    <tr>\n",
       "      <th>count</th>\n",
       "      <td>301.000000</td>\n",
       "      <td>301.000000</td>\n",
       "      <td>301.000000</td>\n",
       "      <td>301.000000</td>\n",
       "      <td>301.000000</td>\n",
       "    </tr>\n",
       "    <tr>\n",
       "      <th>mean</th>\n",
       "      <td>2013.627907</td>\n",
       "      <td>4.661296</td>\n",
       "      <td>7.628472</td>\n",
       "      <td>36947.205980</td>\n",
       "      <td>0.043189</td>\n",
       "    </tr>\n",
       "    <tr>\n",
       "      <th>std</th>\n",
       "      <td>2.891554</td>\n",
       "      <td>5.082812</td>\n",
       "      <td>8.644115</td>\n",
       "      <td>38886.883882</td>\n",
       "      <td>0.247915</td>\n",
       "    </tr>\n",
       "    <tr>\n",
       "      <th>min</th>\n",
       "      <td>2003.000000</td>\n",
       "      <td>0.100000</td>\n",
       "      <td>0.320000</td>\n",
       "      <td>500.000000</td>\n",
       "      <td>0.000000</td>\n",
       "    </tr>\n",
       "    <tr>\n",
       "      <th>25%</th>\n",
       "      <td>2012.000000</td>\n",
       "      <td>0.900000</td>\n",
       "      <td>1.200000</td>\n",
       "      <td>15000.000000</td>\n",
       "      <td>0.000000</td>\n",
       "    </tr>\n",
       "    <tr>\n",
       "      <th>50%</th>\n",
       "      <td>2014.000000</td>\n",
       "      <td>3.600000</td>\n",
       "      <td>6.400000</td>\n",
       "      <td>32000.000000</td>\n",
       "      <td>0.000000</td>\n",
       "    </tr>\n",
       "    <tr>\n",
       "      <th>75%</th>\n",
       "      <td>2016.000000</td>\n",
       "      <td>6.000000</td>\n",
       "      <td>9.900000</td>\n",
       "      <td>48767.000000</td>\n",
       "      <td>0.000000</td>\n",
       "    </tr>\n",
       "    <tr>\n",
       "      <th>max</th>\n",
       "      <td>2018.000000</td>\n",
       "      <td>35.000000</td>\n",
       "      <td>92.600000</td>\n",
       "      <td>500000.000000</td>\n",
       "      <td>3.000000</td>\n",
       "    </tr>\n",
       "  </tbody>\n",
       "</table>\n",
       "</div>"
      ],
      "text/plain": [
       "              Year  Selling_Price  Present_Price     Kms_Driven       Owner\n",
       "count   301.000000     301.000000     301.000000     301.000000  301.000000\n",
       "mean   2013.627907       4.661296       7.628472   36947.205980    0.043189\n",
       "std       2.891554       5.082812       8.644115   38886.883882    0.247915\n",
       "min    2003.000000       0.100000       0.320000     500.000000    0.000000\n",
       "25%    2012.000000       0.900000       1.200000   15000.000000    0.000000\n",
       "50%    2014.000000       3.600000       6.400000   32000.000000    0.000000\n",
       "75%    2016.000000       6.000000       9.900000   48767.000000    0.000000\n",
       "max    2018.000000      35.000000      92.600000  500000.000000    3.000000"
      ]
     },
     "execution_count": 45,
     "metadata": {},
     "output_type": "execute_result"
    }
   ],
   "source": [
    "data.describe()"
   ]
  },
  {
   "cell_type": "code",
   "execution_count": 46,
   "id": "bb9cb9ed",
   "metadata": {},
   "outputs": [
    {
     "data": {
      "text/html": [
       "<div>\n",
       "<style scoped>\n",
       "    .dataframe tbody tr th:only-of-type {\n",
       "        vertical-align: middle;\n",
       "    }\n",
       "\n",
       "    .dataframe tbody tr th {\n",
       "        vertical-align: top;\n",
       "    }\n",
       "\n",
       "    .dataframe thead th {\n",
       "        text-align: right;\n",
       "    }\n",
       "</style>\n",
       "<table border=\"1\" class=\"dataframe\">\n",
       "  <thead>\n",
       "    <tr style=\"text-align: right;\">\n",
       "      <th></th>\n",
       "      <th>Car_Name</th>\n",
       "      <th>Year</th>\n",
       "      <th>Selling_Price</th>\n",
       "      <th>Present_Price</th>\n",
       "      <th>Kms_Driven</th>\n",
       "      <th>Fuel_Type</th>\n",
       "      <th>Seller_Type</th>\n",
       "      <th>Transmission</th>\n",
       "      <th>Owner</th>\n",
       "    </tr>\n",
       "  </thead>\n",
       "  <tbody>\n",
       "    <tr>\n",
       "      <th>0</th>\n",
       "      <td>False</td>\n",
       "      <td>False</td>\n",
       "      <td>False</td>\n",
       "      <td>False</td>\n",
       "      <td>False</td>\n",
       "      <td>False</td>\n",
       "      <td>False</td>\n",
       "      <td>False</td>\n",
       "      <td>False</td>\n",
       "    </tr>\n",
       "    <tr>\n",
       "      <th>1</th>\n",
       "      <td>False</td>\n",
       "      <td>False</td>\n",
       "      <td>False</td>\n",
       "      <td>False</td>\n",
       "      <td>False</td>\n",
       "      <td>False</td>\n",
       "      <td>False</td>\n",
       "      <td>False</td>\n",
       "      <td>False</td>\n",
       "    </tr>\n",
       "    <tr>\n",
       "      <th>2</th>\n",
       "      <td>False</td>\n",
       "      <td>False</td>\n",
       "      <td>False</td>\n",
       "      <td>False</td>\n",
       "      <td>False</td>\n",
       "      <td>False</td>\n",
       "      <td>False</td>\n",
       "      <td>False</td>\n",
       "      <td>False</td>\n",
       "    </tr>\n",
       "    <tr>\n",
       "      <th>3</th>\n",
       "      <td>False</td>\n",
       "      <td>False</td>\n",
       "      <td>False</td>\n",
       "      <td>False</td>\n",
       "      <td>False</td>\n",
       "      <td>False</td>\n",
       "      <td>False</td>\n",
       "      <td>False</td>\n",
       "      <td>False</td>\n",
       "    </tr>\n",
       "    <tr>\n",
       "      <th>4</th>\n",
       "      <td>False</td>\n",
       "      <td>False</td>\n",
       "      <td>False</td>\n",
       "      <td>False</td>\n",
       "      <td>False</td>\n",
       "      <td>False</td>\n",
       "      <td>False</td>\n",
       "      <td>False</td>\n",
       "      <td>False</td>\n",
       "    </tr>\n",
       "    <tr>\n",
       "      <th>...</th>\n",
       "      <td>...</td>\n",
       "      <td>...</td>\n",
       "      <td>...</td>\n",
       "      <td>...</td>\n",
       "      <td>...</td>\n",
       "      <td>...</td>\n",
       "      <td>...</td>\n",
       "      <td>...</td>\n",
       "      <td>...</td>\n",
       "    </tr>\n",
       "    <tr>\n",
       "      <th>296</th>\n",
       "      <td>False</td>\n",
       "      <td>False</td>\n",
       "      <td>False</td>\n",
       "      <td>False</td>\n",
       "      <td>False</td>\n",
       "      <td>False</td>\n",
       "      <td>False</td>\n",
       "      <td>False</td>\n",
       "      <td>False</td>\n",
       "    </tr>\n",
       "    <tr>\n",
       "      <th>297</th>\n",
       "      <td>False</td>\n",
       "      <td>False</td>\n",
       "      <td>False</td>\n",
       "      <td>False</td>\n",
       "      <td>False</td>\n",
       "      <td>False</td>\n",
       "      <td>False</td>\n",
       "      <td>False</td>\n",
       "      <td>False</td>\n",
       "    </tr>\n",
       "    <tr>\n",
       "      <th>298</th>\n",
       "      <td>False</td>\n",
       "      <td>False</td>\n",
       "      <td>False</td>\n",
       "      <td>False</td>\n",
       "      <td>False</td>\n",
       "      <td>False</td>\n",
       "      <td>False</td>\n",
       "      <td>False</td>\n",
       "      <td>False</td>\n",
       "    </tr>\n",
       "    <tr>\n",
       "      <th>299</th>\n",
       "      <td>False</td>\n",
       "      <td>False</td>\n",
       "      <td>False</td>\n",
       "      <td>False</td>\n",
       "      <td>False</td>\n",
       "      <td>False</td>\n",
       "      <td>False</td>\n",
       "      <td>False</td>\n",
       "      <td>False</td>\n",
       "    </tr>\n",
       "    <tr>\n",
       "      <th>300</th>\n",
       "      <td>False</td>\n",
       "      <td>False</td>\n",
       "      <td>False</td>\n",
       "      <td>False</td>\n",
       "      <td>False</td>\n",
       "      <td>False</td>\n",
       "      <td>False</td>\n",
       "      <td>False</td>\n",
       "      <td>False</td>\n",
       "    </tr>\n",
       "  </tbody>\n",
       "</table>\n",
       "<p>301 rows × 9 columns</p>\n",
       "</div>"
      ],
      "text/plain": [
       "     Car_Name   Year  Selling_Price  Present_Price  Kms_Driven  Fuel_Type  \\\n",
       "0       False  False          False          False       False      False   \n",
       "1       False  False          False          False       False      False   \n",
       "2       False  False          False          False       False      False   \n",
       "3       False  False          False          False       False      False   \n",
       "4       False  False          False          False       False      False   \n",
       "..        ...    ...            ...            ...         ...        ...   \n",
       "296     False  False          False          False       False      False   \n",
       "297     False  False          False          False       False      False   \n",
       "298     False  False          False          False       False      False   \n",
       "299     False  False          False          False       False      False   \n",
       "300     False  False          False          False       False      False   \n",
       "\n",
       "     Seller_Type  Transmission  Owner  \n",
       "0          False         False  False  \n",
       "1          False         False  False  \n",
       "2          False         False  False  \n",
       "3          False         False  False  \n",
       "4          False         False  False  \n",
       "..           ...           ...    ...  \n",
       "296        False         False  False  \n",
       "297        False         False  False  \n",
       "298        False         False  False  \n",
       "299        False         False  False  \n",
       "300        False         False  False  \n",
       "\n",
       "[301 rows x 9 columns]"
      ]
     },
     "execution_count": 46,
     "metadata": {},
     "output_type": "execute_result"
    }
   ],
   "source": [
    "data.isnull()"
   ]
  },
  {
   "cell_type": "code",
   "execution_count": 48,
   "id": "231bf204",
   "metadata": {},
   "outputs": [
    {
     "data": {
      "text/plain": [
       "Car_Name         0\n",
       "Year             0\n",
       "Selling_Price    0\n",
       "Present_Price    0\n",
       "Kms_Driven       0\n",
       "Fuel_Type        0\n",
       "Seller_Type      0\n",
       "Transmission     0\n",
       "Owner            0\n",
       "dtype: int64"
      ]
     },
     "execution_count": 48,
     "metadata": {},
     "output_type": "execute_result"
    }
   ],
   "source": [
    "data.isnull().sum()"
   ]
  },
  {
   "cell_type": "code",
   "execution_count": 50,
   "id": "a3a18324",
   "metadata": {},
   "outputs": [
    {
     "data": {
      "text/plain": [
       "Car_Name         301\n",
       "Year             301\n",
       "Selling_Price    301\n",
       "Present_Price    301\n",
       "Kms_Driven       301\n",
       "Fuel_Type        301\n",
       "Seller_Type      301\n",
       "Transmission     301\n",
       "Owner            301\n",
       "dtype: int64"
      ]
     },
     "execution_count": 50,
     "metadata": {},
     "output_type": "execute_result"
    }
   ],
   "source": [
    "data.notnull().sum()"
   ]
  },
  {
   "cell_type": "code",
   "execution_count": 51,
   "id": "d89a2820",
   "metadata": {},
   "outputs": [
    {
     "name": "stdout",
     "output_type": "stream",
     "text": [
      "<class 'pandas.core.frame.DataFrame'>\n",
      "RangeIndex: 301 entries, 0 to 300\n",
      "Data columns (total 9 columns):\n",
      " #   Column         Non-Null Count  Dtype  \n",
      "---  ------         --------------  -----  \n",
      " 0   Car_Name       301 non-null    object \n",
      " 1   Year           301 non-null    int64  \n",
      " 2   Selling_Price  301 non-null    float64\n",
      " 3   Present_Price  301 non-null    float64\n",
      " 4   Kms_Driven     301 non-null    int64  \n",
      " 5   Fuel_Type      301 non-null    object \n",
      " 6   Seller_Type    301 non-null    object \n",
      " 7   Transmission   301 non-null    object \n",
      " 8   Owner          301 non-null    int64  \n",
      "dtypes: float64(2), int64(3), object(4)\n",
      "memory usage: 21.3+ KB\n"
     ]
    }
   ],
   "source": [
    "data.info()"
   ]
  },
  {
   "cell_type": "code",
   "execution_count": 57,
   "id": "a612090c",
   "metadata": {},
   "outputs": [
    {
     "data": {
      "text/plain": [
       "array(['ritz', 'sx4', 'ciaz', 'wagon r', 'swift', 'vitara brezza',\n",
       "       's cross', 'alto 800', 'ertiga', 'dzire', 'alto k10', 'ignis',\n",
       "       '800', 'baleno', 'omni', 'fortuner', 'innova', 'corolla altis',\n",
       "       'etios cross', 'etios g', 'etios liva', 'corolla', 'etios gd',\n",
       "       'camry', 'land cruiser', 'Royal Enfield Thunder 500',\n",
       "       'UM Renegade Mojave', 'KTM RC200', 'Bajaj Dominar 400',\n",
       "       'Royal Enfield Classic 350', 'KTM RC390', 'Hyosung GT250R',\n",
       "       'Royal Enfield Thunder 350', 'KTM 390 Duke ',\n",
       "       'Mahindra Mojo XT300', 'Bajaj Pulsar RS200',\n",
       "       'Royal Enfield Bullet 350', 'Royal Enfield Classic 500',\n",
       "       'Bajaj Avenger 220', 'Bajaj Avenger 150', 'Honda CB Hornet 160R',\n",
       "       'Yamaha FZ S V 2.0', 'Yamaha FZ 16', 'TVS Apache RTR 160',\n",
       "       'Bajaj Pulsar 150', 'Honda CBR 150', 'Hero Extreme',\n",
       "       'Bajaj Avenger 220 dtsi', 'Bajaj Avenger 150 street',\n",
       "       'Yamaha FZ  v 2.0', 'Bajaj Pulsar  NS 200', 'Bajaj Pulsar 220 F',\n",
       "       'TVS Apache RTR 180', 'Hero Passion X pro', 'Bajaj Pulsar NS 200',\n",
       "       'Yamaha Fazer ', 'Honda Activa 4G', 'TVS Sport ',\n",
       "       'Honda Dream Yuga ', 'Bajaj Avenger Street 220',\n",
       "       'Hero Splender iSmart', 'Activa 3g', 'Hero Passion Pro',\n",
       "       'Honda CB Trigger', 'Yamaha FZ S ', 'Bajaj Pulsar 135 LS',\n",
       "       'Activa 4g', 'Honda CB Unicorn', 'Hero Honda CBZ extreme',\n",
       "       'Honda Karizma', 'Honda Activa 125', 'TVS Jupyter',\n",
       "       'Hero Honda Passion Pro', 'Hero Splender Plus', 'Honda CB Shine',\n",
       "       'Bajaj Discover 100', 'Suzuki Access 125', 'TVS Wego',\n",
       "       'Honda CB twister', 'Hero Glamour', 'Hero Super Splendor',\n",
       "       'Bajaj Discover 125', 'Hero Hunk', 'Hero  Ignitor Disc',\n",
       "       'Hero  CBZ Xtreme', 'Bajaj  ct 100', 'i20', 'grand i10', 'i10',\n",
       "       'eon', 'xcent', 'elantra', 'creta', 'verna', 'city', 'brio',\n",
       "       'amaze', 'jazz'], dtype=object)"
      ]
     },
     "execution_count": 57,
     "metadata": {},
     "output_type": "execute_result"
    }
   ],
   "source": [
    "data['Car_Name'].unique()"
   ]
  },
  {
   "cell_type": "code",
   "execution_count": 60,
   "id": "fa2a2549",
   "metadata": {},
   "outputs": [
    {
     "name": "stdout",
     "output_type": "stream",
     "text": [
      "Petrol    239\n",
      "Diesel     60\n",
      "CNG         2\n",
      "Name: Fuel_Type, dtype: int64\n"
     ]
    }
   ],
   "source": [
    "print(data.Fuel_Type.value_counts())"
   ]
  },
  {
   "cell_type": "code",
   "execution_count": 63,
   "id": "fc09d2fe",
   "metadata": {},
   "outputs": [],
   "source": [
    "name = data.Car_Name.value_counts()"
   ]
  },
  {
   "cell_type": "code",
   "execution_count": 64,
   "id": "448d207b",
   "metadata": {},
   "outputs": [
    {
     "name": "stdout",
     "output_type": "stream",
     "text": [
      "city                         26\n",
      "corolla altis                16\n",
      "verna                        14\n",
      "fortuner                     11\n",
      "brio                         10\n",
      "ciaz                          9\n",
      "innova                        9\n",
      "i20                           9\n",
      "grand i10                     8\n",
      "jazz                          7\n",
      "amaze                         7\n",
      "Royal Enfield Classic 350     7\n",
      "ertiga                        6\n",
      "eon                           6\n",
      "sx4                           6\n",
      "alto k10                      5\n",
      "i10                           5\n",
      "swift                         5\n",
      "Bajaj Pulsar 150              4\n",
      "Royal Enfield Thunder 350     4\n",
      "ritz                          4\n",
      "wagon r                       4\n",
      "etios liva                    4\n",
      "dzire                         4\n",
      "xcent                         3\n",
      "etios cross                   3\n",
      "Royal Enfield Thunder 500     3\n",
      "TVS Apache RTR 160            3\n",
      "Yamaha FZ S V 2.0             3\n",
      "creta                         3\n",
      "Honda CB Hornet 160R          3\n",
      "etios g                       3\n",
      "Bajaj Avenger 220             3\n",
      "Bajaj Pulsar NS 200           3\n",
      "Bajaj Discover 125            2\n",
      "Bajaj Pulsar 220 F            2\n",
      "TVS Apache RTR 180            2\n",
      "Yamaha FZ  v 2.0              2\n",
      "Honda Activa 4G               2\n",
      "Hero Extreme                  2\n",
      "Honda CB twister              2\n",
      "Hero Splender iSmart          2\n",
      "Activa 3g                     2\n",
      "Hero Passion Pro              2\n",
      "Honda CB Shine                2\n",
      "Bajaj Avenger 220 dtsi        2\n",
      "Honda CBR 150                 2\n",
      "elantra                       2\n",
      "Royal Enfield Classic 500     2\n",
      "KTM RC200                     2\n",
      "Honda Karizma                 2\n",
      "Bajaj  ct 100                 1\n",
      "Hero  Ignitor Disc            1\n",
      "TVS Jupyter                   1\n",
      "Hero Honda Passion Pro        1\n",
      "Hero Splender Plus            1\n",
      "vitara brezza                 1\n",
      "Bajaj Discover 100            1\n",
      "Suzuki Access 125             1\n",
      "s cross                       1\n",
      "alto 800                      1\n",
      "baleno                        1\n",
      "TVS Wego                      1\n",
      "Hero  CBZ Xtreme              1\n",
      "Hero Glamour                  1\n",
      "ignis                         1\n",
      "Hero Super Splendor           1\n",
      "800                           1\n",
      "Hero Hunk                     1\n",
      "Honda Activa 125              1\n",
      "corolla                       1\n",
      "Hero Honda CBZ extreme        1\n",
      "Yamaha FZ 16                  1\n",
      "camry                         1\n",
      "land cruiser                  1\n",
      "UM Renegade Mojave            1\n",
      "Bajaj Dominar 400             1\n",
      "KTM RC390                     1\n",
      "Hyosung GT250R                1\n",
      "KTM 390 Duke                  1\n",
      "Mahindra Mojo XT300           1\n",
      "Bajaj Pulsar RS200            1\n",
      "Royal Enfield Bullet 350      1\n",
      "Bajaj Avenger 150             1\n",
      "Bajaj Avenger 150 street      1\n",
      "Honda CB Unicorn              1\n",
      "omni                          1\n",
      "Bajaj Pulsar  NS 200          1\n",
      "Hero Passion X pro            1\n",
      "Yamaha Fazer                  1\n",
      "TVS Sport                     1\n",
      "Honda Dream Yuga              1\n",
      "etios gd                      1\n",
      "Honda CB Trigger              1\n",
      "Yamaha FZ S                   1\n",
      "Bajaj Pulsar 135 LS           1\n",
      "Activa 4g                     1\n",
      "Bajaj Avenger Street 220      1\n"
     ]
    }
   ],
   "source": [
    "print(name.to_string())"
   ]
  },
  {
   "cell_type": "code",
   "execution_count": 66,
   "id": "9172ab4a",
   "metadata": {},
   "outputs": [],
   "source": [
    "import matplotlib.pyplot as plt"
   ]
  },
  {
   "cell_type": "code",
   "execution_count": 67,
   "id": "1a717780",
   "metadata": {
    "scrolled": true
   },
   "outputs": [
    {
     "data": {
      "image/png": "[encoded data removed]",
      "text/plain": [
       "<Figure size 432x288 with 1 Axes>"
      ]
     },
     "metadata": {},
     "output_type": "display_data"
    }
   ],
   "source": [
    "plt.pie(data.Fuel_Type.value_counts(),labels=[\"Petrol\",\"Diesel\",\"CNG\"])\n",
    "plt.show()"
   ]
  },
  {
   "cell_type": "code",
   "execution_count": 68,
   "id": "a585c248",
   "metadata": {},
   "outputs": [
    {
     "name": "stdout",
     "output_type": "stream",
     "text": [
      "Dealer        195\n",
      "Individual    106\n",
      "Name: Seller_Type, dtype: int64\n"
     ]
    }
   ],
   "source": [
    "print(data.Seller_Type.value_counts())"
   ]
  },
  {
   "cell_type": "code",
   "execution_count": 70,
   "id": "f5e3453d",
   "metadata": {},
   "outputs": [
    {
     "name": "stdout",
     "output_type": "stream",
     "text": [
      "Manual       261\n",
      "Automatic     40\n",
      "Name: Transmission, dtype: int64\n"
     ]
    }
   ],
   "source": [
    "print(data.Transmission.value_counts())"
   ]
  },
  {
   "cell_type": "code",
   "execution_count": 71,
   "id": "39614a46",
   "metadata": {},
   "outputs": [
    {
     "name": "stdout",
     "output_type": "stream",
     "text": [
      "0    290\n",
      "1     10\n",
      "3      1\n",
      "Name: Owner, dtype: int64\n"
     ]
    }
   ],
   "source": [
    "print(data.Owner.value_counts())"
   ]
  },
  {
   "cell_type": "code",
   "execution_count": 73,
   "id": "b92b7ed7",
   "metadata": {},
   "outputs": [],
   "source": [
    "import sklearn"
   ]
  },
  {
   "cell_type": "code",
   "execution_count": null,
   "id": "dd7276f1",
   "metadata": {},
   "outputs": [],
   "source": []
  }
 ],
 "metadata": {
  "kernelspec": {
   "display_name": "Python 3 (ipykernel)",
   "language": "python",
   "name": "python3"
  },
  "language_info": {
   "codemirror_mode": {
    "name": "ipython",
    "version": 3
   },
   "file_extension": ".py",
   "mimetype": "text/x-python",
   "name": "python",
   "nbconvert_exporter": "python",
   "pygments_lexer": "ipython3",
   "version": "3.9.12"
  }
 },
 "nbformat": 4,
 "nbformat_minor": 5
}
